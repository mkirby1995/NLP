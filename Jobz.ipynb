{
  "nbformat": 4,
  "nbformat_minor": 0,
  "metadata": {
    "colab": {
      "name": "Jobz.ipynb",
      "version": "0.3.2",
      "provenance": [],
      "include_colab_link": true
    },
    "kernelspec": {
      "name": "python3",
      "display_name": "Python 3"
    }
  },
  "cells": [
    {
      "cell_type": "markdown",
      "metadata": {
        "id": "view-in-github",
        "colab_type": "text"
      },
      "source": [
        "<a href=\"https://colab.research.google.com/github/mkirby1995/NLP/blob/master/Jobz.ipynb\" target=\"_parent\"><img src=\"https://colab.research.google.com/assets/colab-badge.svg\" alt=\"Open In Colab\"/></a>"
      ]
    },
    {
      "cell_type": "code",
      "metadata": {
        "id": "JTCta_KoqMOS",
        "colab_type": "code",
        "colab": {}
      },
      "source": [
        "import pandas as pd"
      ],
      "execution_count": 0,
      "outputs": []
    },
    {
      "cell_type": "code",
      "metadata": {
        "id": "FlX4aXhVqV-c",
        "colab_type": "code",
        "colab": {
          "base_uri": "https://localhost:8080/",
          "height": 197
        },
        "outputId": "80e4c821-86ed-4b1f-f2bd-55141502d1cf"
      },
      "source": [
        "jobs_csv = 'https://raw.githubusercontent.com/mkirby1995/NLP/master/jobs.csv'\n",
        "df = pd.read_csv(jobs_csv)\n",
        "\n",
        "df.info()"
      ],
      "execution_count": 2,
      "outputs": [
        {
          "output_type": "stream",
          "text": [
            "<class 'pandas.core.frame.DataFrame'>\n",
            "RangeIndex: 15216 entries, 0 to 15215\n",
            "Data columns (total 5 columns):\n",
            "job_title    15216 non-null object\n",
            "company      15216 non-null object\n",
            "location     15216 non-null object\n",
            "summary      15216 non-null object\n",
            "state        13613 non-null object\n",
            "dtypes: object(5)\n",
            "memory usage: 594.5+ KB\n"
          ],
          "name": "stdout"
        }
      ]
    },
    {
      "cell_type": "code",
      "metadata": {
        "id": "71iVfEl0qdRB",
        "colab_type": "code",
        "colab": {
          "base_uri": "https://localhost:8080/",
          "height": 53
        },
        "outputId": "50827806-abbc-4bc2-dc94-b8ec04b4cb04"
      },
      "source": [
        "df['state'].value_counts()"
      ],
      "execution_count": 3,
      "outputs": [
        {
          "output_type": "execute_result",
          "data": {
            "text/plain": [
              "TX    13613\n",
              "Name: state, dtype: int64"
            ]
          },
          "metadata": {
            "tags": []
          },
          "execution_count": 3
        }
      ]
    },
    {
      "cell_type": "code",
      "metadata": {
        "id": "zjymRlHbqmYV",
        "colab_type": "code",
        "colab": {}
      },
      "source": [
        "df = df.where(df['state'] == 'TX')"
      ],
      "execution_count": 0,
      "outputs": []
    },
    {
      "cell_type": "code",
      "metadata": {
        "id": "3KwTBmViq3yp",
        "colab_type": "code",
        "colab": {
          "base_uri": "https://localhost:8080/",
          "height": 395
        },
        "outputId": "b0ea1535-ce2e-4cec-e871-025c95f83f5f"
      },
      "source": [
        "df['location'].value_counts()"
      ],
      "execution_count": 6,
      "outputs": [
        {
          "output_type": "execute_result",
          "data": {
            "text/plain": [
              "Dallas, TX               5701\n",
              "Irving, TX               3311\n",
              "Fort Worth, TX           1282\n",
              "Plano, TX                1174\n",
              "Richardson, TX            679\n",
              "Addison, TX               405\n",
              "Arlington, TX             404\n",
              "Lewisville, TX            192\n",
              "Dallas-Fort Worth, TX     139\n",
              "Grand Prairie, TX          67\n",
              "Coppell, TX                49\n",
              "Southlake, TX              41\n",
              "Farmers Branch, TX         36\n",
              "McKinney, TX               34\n",
              "Carrollton, TX             33\n",
              "Flower Mound, TX           25\n",
              "Hurst, TX                  16\n",
              "Garland, TX                13\n",
              "Frisco, TX                  6\n",
              "Denton, TX                  6\n",
              "Name: location, dtype: int64"
            ]
          },
          "metadata": {
            "tags": []
          },
          "execution_count": 6
        }
      ]
    },
    {
      "cell_type": "code",
      "metadata": {
        "id": "E_Suw8mDq_Ov",
        "colab_type": "code",
        "colab": {
          "base_uri": "https://localhost:8080/",
          "height": 1000
        },
        "outputId": "32f61a36-019d-4492-aeb1-f1be669ec971"
      },
      "source": [
        "df['company'].value_counts()"
      ],
      "execution_count": 7,
      "outputs": [
        {
          "output_type": "execute_result",
          "data": {
            "text/plain": [
              "Verizon                                            1482\n",
              "Burns & McDonnell                                   982\n",
              "Deloitte                                            946\n",
              "Christus Health                                     847\n",
              "S5 Stratos                                          744\n",
              "KPMG                                                628\n",
              "ITL USA                                             533\n",
              "JP Morgan Chase                                     366\n",
              "NT Concepts                                         353\n",
              "s•com                                               311\n",
              "ASSURANCE Independent Agents                        305\n",
              "Stellargy Services LLC                              199\n",
              "UT Southwestern Medical Center                      179\n",
              "Methodist Hospital for Surgery                      179\n",
              "JUUL Labs                                           175\n",
              "HDR                                                 153\n",
              "Roth Technical Specialties Inc                      140\n",
              "GM Financial                                        128\n",
              "Epsilon                                             125\n",
              "Quisitive                                           122\n",
              "Capital One                                         119\n",
              "BAIR                                                107\n",
              "AUTHENTIX INC                                       104\n",
              "Bank of America                                     102\n",
              "Amazon Web Services, Inc.                            95\n",
              "Pieces Technologies                                  90\n",
              "USAA                                                 89\n",
              "Baylor Scott & White Health                          87\n",
              "Goldman Sachs                                        85\n",
              "Broadcom                                             82\n",
              "                                                   ... \n",
              "HCA Healthcare                                        6\n",
              "CEO Foundry                                           6\n",
              "Air Liquide                                           6\n",
              "Analytical Mechanics Associates, Inc.                 5\n",
              "Artis Consulting                                      5\n",
              "Harris Corporation                                    5\n",
              "Hanley Wood                                           5\n",
              "Intelligroup Inc                                      5\n",
              "Lexipol                                               5\n",
              "Triumph Group, Inc.                                   5\n",
              "TopGolf                                               5\n",
              "Hewlett Packard Enterprise                            5\n",
              "Advithri Technologies                                 4\n",
              "Ryder                                                 4\n",
              "OneMain Financial                                     4\n",
              "Novartis                                              4\n",
              "DataMedical Technology                                4\n",
              "L&T Technology Services Ltd.                          4\n",
              "Data Ninjas Inc                                       4\n",
              "Calance US                                            3\n",
              "Intuit                                                3\n",
              "Cardinal Health                                       3\n",
              "Nissan                                                3\n",
              "Life Time                                             3\n",
              "Probe Technology Services, Inc.                       2\n",
              "HealthTrackRx                                         2\n",
              "Lockheed Martin Corporation                           1\n",
              "University of North Texas                             1\n",
              "FC DALLAS, Major League Soccer & Toyota Stadium       1\n",
              "Pattonair                                             1\n",
              "Name: company, Length: 253, dtype: int64"
            ]
          },
          "metadata": {
            "tags": []
          },
          "execution_count": 7
        }
      ]
    },
    {
      "cell_type": "code",
      "metadata": {
        "id": "xJ1BSFMarGfa",
        "colab_type": "code",
        "colab": {
          "base_uri": "https://localhost:8080/",
          "height": 1000
        },
        "outputId": "98e4e14b-0c48-4e5b-d54e-2c18d0126b1e"
      },
      "source": [
        "df['job_title'].value_counts()"
      ],
      "execution_count": 8,
      "outputs": [
        {
          "output_type": "execute_result",
          "data": {
            "text/plain": [
              "Data Scientist                                                                                                      2660\n",
              "Senior Data Scientist                                                                                                913\n",
              "Data Scientist/Statistician (Statistical Modeling)                                                                   744\n",
              "Medicare Insurance Agent – Industry-best comp plan, popular carriers                                                 305\n",
              "Sr. Associate, AI Engineer                                                                                           232\n",
              "Data Mining/ Jr. Analyst                                                                                             199\n",
              "Senior Manager - Data Science & Modernization, Automation, Customer MDM Consulting for High-Tech industry sector     182\n",
              "Laboratory Tech                                                                                                      179\n",
              "Senior Mechanical Engineer - Mission Critical Facilities                                                             164\n",
              "Telco-Media Data Science Senior Manager                                                                              156\n",
              "Senior Civil Engineer - Railroads                                                                                    152\n",
              "Senior Data Analyst                                                                                                  152\n",
              "Senior Civil Engineer - Highways                                                                                     151\n",
              "Senior Electrical Engineer - Global Facilities (Mission Critical)                                                    143\n",
              "Artificial Intelligence, Senior Consultant - Applied Artificial Intelligence (Full Stack Developer)                  141\n",
              "Sr. Data Science Engineer                                                                                            140\n",
              "Machine Learning Engineer                                                                                            128\n",
              "Senior Electrical Engineer                                                                                           127\n",
              "Senior Data Scientist and Engineer                                                                                   122\n",
              "Staff Electrical Engineer - Mission Critical Facilities                                                              119\n",
              "Manager, Data & Analytics Modeler, Natural Language Processing                                                       114\n",
              "Applied Artificial Intelligence - Artificial Intelligence - Manager/Architect                                        113\n",
              "Lead Software Engineer - Distributed Systems                                                                         110\n",
              "Emissions Analyst/Stack Tester                                                                                       107\n",
              "Lead Java Engineer - Machine Learning Platform                                                                       101\n",
              "Senior Consultant, Strategy & Analytics, Analytics & Cognitive                                                       101\n",
              "AAI – Data Science – Senior Manager                                                                                   99\n",
              "Senior Manager - Systems Engineering                                                                                  97\n",
              "Azure Data Architect                                                                                                  95\n",
              "Civil Construction Inspector Sr                                                                                       94\n",
              "                                                                                                                    ... \n",
              "Data Analyst I                                                                                                         4\n",
              "Industrial Engineer Staff                                                                                              4\n",
              "SYSTEMS INTEGRATION SPECIALIST - ABBOTT DIAGNOSTICS DIVISION (ADD)                                                     4\n",
              "Data Research Analyst                                                                                                  4\n",
              "Sr Mgr-Digital Solutions & Data Analytics                                                                              4\n",
              "Lead Data Analyst                                                                                                      4\n",
              "Restaurant Food Safety Scientist                                                                                       3\n",
              "Senior Data Analyst, Client Integration                                                                                3\n",
              "Ultimate Hoops Statistician                                                                                            3\n",
              "Sr. Data Analyst                                                                                                       3\n",
              "Senior Big Data Operations Engineer                                                                                    3\n",
              "Statistician                                                                                                           3\n",
              "Analyst 2 - Reporting & Analytics                                                                                      3\n",
              "Senior Business Data Analyst                                                                                           3\n",
              "Research Associate - Genomics Core Laboratory                                                                          3\n",
              "Technician / Inspector                                                                                                 3\n",
              "Certifying Scientist                                                                                                   2\n",
              "Data Product Manager                                                                                                   2\n",
              "Data Warehouse Analyst-Systems and Data Integration-Analysis                                                           2\n",
              "Industrial Engineer Senior                                                                                             2\n",
              "F-35 Fleet Tracking Engineer (Data Analysis)                                                                           2\n",
              "Splunk Engineer/Architect-Arlington, TX                                                                                1\n",
              "Splunk Engineer/Architect-Dallas, TX                                                                                   1\n",
              "Senior Healthcare Data Analyst                                                                                         1\n",
              "Quantitative Risk Analyst I                                                                                            1\n",
              "2019 FALL Internship - SPORTS SCIENCE & DATA ANALYTICS                                                                 1\n",
              "Department Data Analyst Sr.                                                                                            1\n",
              "Sr Research Compliance Analyst                                                                                         1\n",
              "Population Science Data Analyst II                                                                                     1\n",
              "Population Science Data Analyst I                                                                                      1\n",
              "Name: job_title, Length: 423, dtype: int64"
            ]
          },
          "metadata": {
            "tags": []
          },
          "execution_count": 8
        }
      ]
    },
    {
      "cell_type": "code",
      "metadata": {
        "id": "poO843X4rT0D",
        "colab_type": "code",
        "colab": {}
      },
      "source": [
        ""
      ],
      "execution_count": 0,
      "outputs": []
    }
  ]
}