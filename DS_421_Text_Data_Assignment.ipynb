{
  "nbformat": 4,
  "nbformat_minor": 0,
  "metadata": {
    "colab": {
      "name": "DS_421_Text_Data_Assignment.ipynb",
      "version": "0.3.2",
      "provenance": [],
      "collapsed_sections": [],
      "include_colab_link": true
    },
    "language_info": {
      "codemirror_mode": {
        "name": "ipython",
        "version": 3
      },
      "file_extension": ".py",
      "mimetype": "text/x-python",
      "name": "python",
      "nbconvert_exporter": "python",
      "pygments_lexer": "ipython3",
      "version": "3.7.3"
    },
    "kernelspec": {
      "display_name": "Python 3",
      "language": "python",
      "name": "python3"
    }
  },
  "cells": [
    {
      "cell_type": "markdown",
      "metadata": {
        "id": "view-in-github",
        "colab_type": "text"
      },
      "source": [
        "<a href=\"https://colab.research.google.com/github/mkirby1995/NLP/blob/master/DS_421_Text_Data_Assignment.ipynb\" target=\"_parent\"><img src=\"https://colab.research.google.com/assets/colab-badge.svg\" alt=\"Open In Colab\"/></a>"
      ]
    },
    {
      "cell_type": "markdown",
      "metadata": {
        "id": "dKisHqF2fpxc",
        "colab_type": "text"
      },
      "source": [
        "<img align=\"left\" src=\"https://lever-client-logos.s3.amazonaws.com/864372b1-534c-480e-acd5-9711f850815c-1524247202159.png\" width=200>\n",
        "<br></br>\n",
        "<br></br>\n",
        "\n",
        "# Natural Language Processing (NLP)\n",
        "## *Data Science Unit 4 Sprint 2 Assignment 1*\n",
        "\n",
        "Analyze a corpus of text using text visualization of token frequency. Try cleaning the data as much as possible. Try the following techniques: \n",
        "- Stemming\n",
        "- Lemmatization\n",
        "- Custom stopword removal\n",
        "- Using frequency based stopwrod removal\n",
        "\n",
        "You are free to use any dataset you are interested in. Kaggle is a great place to start. Feel free to sample the data if the dataset is too large to hanlde in memory. "
      ]
    },
    {
      "cell_type": "markdown",
      "metadata": {
        "id": "aY13NIUzf3FQ",
        "colab_type": "text"
      },
      "source": [
        "## Import"
      ]
    },
    {
      "cell_type": "code",
      "metadata": {
        "id": "rpySyeRZk64M",
        "colab_type": "code",
        "colab": {
          "base_uri": "https://localhost:8080/",
          "height": 109
        },
        "outputId": "4b340aa7-6d1c-4ed5-90d1-4a3f6ae1378d"
      },
      "source": [
        "!pip install squarify"
      ],
      "execution_count": 1,
      "outputs": [
        {
          "output_type": "stream",
          "text": [
            "Collecting squarify\n",
            "  Downloading https://files.pythonhosted.org/packages/0b/2b/2e77c35326efec19819cd1d729540d4d235e6c2a3f37658288a363a67da5/squarify-0.4.3-py3-none-any.whl\n",
            "Installing collected packages: squarify\n",
            "Successfully installed squarify-0.4.3\n"
          ],
          "name": "stdout"
        }
      ]
    },
    {
      "cell_type": "code",
      "metadata": {
        "id": "cutkloutfpxh",
        "colab_type": "code",
        "colab": {}
      },
      "source": [
        "\"\"\"\n",
        "Import Statements\n",
        "\"\"\"\n",
        "\n",
        "# Base\n",
        "from collections import Counter\n",
        "import re\n",
        "\n",
        "import pandas as pd\n",
        "\n",
        "# Plotting\n",
        "import squarify\n",
        "import matplotlib.pyplot as plt\n",
        "import seaborn as sns\n",
        "\n",
        "# NLP Libraries\n",
        "import spacy\n",
        "from spacy.tokenizer import Tokenizer\n",
        "from nltk.stem import PorterStemmer\n",
        "\n",
        "nlp = spacy.load(\"en_core_web_sm\")"
      ],
      "execution_count": 0,
      "outputs": []
    },
    {
      "cell_type": "code",
      "metadata": {
        "id": "s3W0ozhvlFKj",
        "colab_type": "code",
        "colab": {
          "base_uri": "https://localhost:8080/",
          "height": 204
        },
        "outputId": "3cf5985f-c75b-4eb5-f1c5-c0c2fb58b3bc"
      },
      "source": [
        "data = 'https://raw.githubusercontent.com/mkirby1995/NLP/master/State_of_Unions.json'\n",
        "df = pd.read_json(data)\n",
        "df = df.sort_values(by = ['year'])\n",
        "\n",
        "df.head()"
      ],
      "execution_count": 3,
      "outputs": [
        {
          "output_type": "execute_result",
          "data": {
            "text/html": [
              "<div>\n",
              "<style scoped>\n",
              "    .dataframe tbody tr th:only-of-type {\n",
              "        vertical-align: middle;\n",
              "    }\n",
              "\n",
              "    .dataframe tbody tr th {\n",
              "        vertical-align: top;\n",
              "    }\n",
              "\n",
              "    .dataframe thead th {\n",
              "        text-align: right;\n",
              "    }\n",
              "</style>\n",
              "<table border=\"1\" class=\"dataframe\">\n",
              "  <thead>\n",
              "    <tr style=\"text-align: right;\">\n",
              "      <th></th>\n",
              "      <th>president</th>\n",
              "      <th>year</th>\n",
              "      <th>content</th>\n",
              "    </tr>\n",
              "  </thead>\n",
              "  <tbody>\n",
              "    <tr>\n",
              "      <th>125</th>\n",
              "      <td>Washington</td>\n",
              "      <td>1790</td>\n",
              "      <td></td>\n",
              "    </tr>\n",
              "    <tr>\n",
              "      <th>127</th>\n",
              "      <td>Washington</td>\n",
              "      <td>1791</td>\n",
              "      <td>Fellow-Citizens of the Senate and House of Rep...</td>\n",
              "    </tr>\n",
              "    <tr>\n",
              "      <th>138</th>\n",
              "      <td>Washington</td>\n",
              "      <td>1792</td>\n",
              "      <td>Fellow-Citizens of the Senate and House of Rep...</td>\n",
              "    </tr>\n",
              "    <tr>\n",
              "      <th>136</th>\n",
              "      <td>Washington</td>\n",
              "      <td>1793</td>\n",
              "      <td>Fellow-Citizens of the Senate and House of Rep...</td>\n",
              "    </tr>\n",
              "    <tr>\n",
              "      <th>163</th>\n",
              "      <td>Washington</td>\n",
              "      <td>1794</td>\n",
              "      <td>Fellow-Citizens of the Senate and House of Rep...</td>\n",
              "    </tr>\n",
              "  </tbody>\n",
              "</table>\n",
              "</div>"
            ],
            "text/plain": [
              "      president  year                                            content\n",
              "125  Washington  1790                                                   \n",
              "127  Washington  1791  Fellow-Citizens of the Senate and House of Rep...\n",
              "138  Washington  1792  Fellow-Citizens of the Senate and House of Rep...\n",
              "136  Washington  1793  Fellow-Citizens of the Senate and House of Rep...\n",
              "163  Washington  1794  Fellow-Citizens of the Senate and House of Rep..."
            ]
          },
          "metadata": {
            "tags": []
          },
          "execution_count": 3
        }
      ]
    },
    {
      "cell_type": "code",
      "metadata": {
        "id": "2zWK7ZKSX5hN",
        "colab_type": "code",
        "colab": {}
      },
      "source": [
        "df['content'] = df['content'].str.strip('\\n')\n",
        "df['content'] = df['content'].str.strip('\\n\\n')"
      ],
      "execution_count": 0,
      "outputs": []
    },
    {
      "cell_type": "markdown",
      "metadata": {
        "id": "hk4v802Mf8_d",
        "colab_type": "text"
      },
      "source": [
        "\n",
        "\n",
        "---\n",
        "\n"
      ]
    },
    {
      "cell_type": "markdown",
      "metadata": {
        "id": "bAoQuLtzf90d",
        "colab_type": "text"
      },
      "source": [
        "## Tokenize (manual)"
      ]
    },
    {
      "cell_type": "code",
      "metadata": {
        "id": "Lm6noRtoDv2p",
        "colab_type": "code",
        "colab": {}
      },
      "source": [
        "def tokenize(text):\n",
        "  sample = re.sub(r'[^a-zA-Z ^0-9]', '', text)\n",
        "  tokens = sample.lower().split()\n",
        "  return tokens"
      ],
      "execution_count": 0,
      "outputs": []
    },
    {
      "cell_type": "code",
      "metadata": {
        "id": "2l-bR4AToiPE",
        "colab_type": "code",
        "colab": {}
      },
      "source": [
        "df['tokens'] = df['content'].apply(tokenize)"
      ],
      "execution_count": 0,
      "outputs": []
    },
    {
      "cell_type": "code",
      "metadata": {
        "id": "m5d7OcIqElhF",
        "colab_type": "code",
        "colab": {
          "base_uri": "https://localhost:8080/",
          "height": 125
        },
        "outputId": "854f464d-5241-4b56-abea-c2249b6f1265"
      },
      "source": [
        "df['tokens'].tail()"
      ],
      "execution_count": 7,
      "outputs": [
        {
          "output_type": "execute_result",
          "data": {
            "text/plain": [
              "66     [mr, speaker, mr, vice, president, members, of...\n",
              "64     [mr, speaker, mr, vice, president, members, of...\n",
              "79     [mr, speaker, mr, vice, president, members, of...\n",
              "67     [thank, you, very, much, mr, speaker, mr, vice...\n",
              "149    [mr, speaker, mr, vice, president, members, of...\n",
              "Name: tokens, dtype: object"
            ]
          },
          "metadata": {
            "tags": []
          },
          "execution_count": 7
        }
      ]
    },
    {
      "cell_type": "markdown",
      "metadata": {
        "id": "Z-pCrgj_EyTm",
        "colab_type": "text"
      },
      "source": [
        "### Analyze Tokens"
      ]
    },
    {
      "cell_type": "code",
      "metadata": {
        "id": "8h-Jm1f8Evp4",
        "colab_type": "code",
        "colab": {
          "base_uri": "https://localhost:8080/",
          "height": 197
        },
        "outputId": "dfb9d55d-ed07-4010-ebfb-a58390ed4aa7"
      },
      "source": [
        "word_counts = Counter()\n",
        "\n",
        "df['tokens'].apply(lambda x: word_counts.update(x))\n",
        "\n",
        "word_counts.most_common(10)"
      ],
      "execution_count": 8,
      "outputs": [
        {
          "output_type": "execute_result",
          "data": {
            "text/plain": [
              "[('the', 122318),\n",
              " ('of', 84846),\n",
              " ('to', 53162),\n",
              " ('and', 51211),\n",
              " ('in', 32786),\n",
              " ('a', 23880),\n",
              " ('that', 18637),\n",
              " ('for', 16165),\n",
              " ('be', 15968),\n",
              " ('is', 14893)]"
            ]
          },
          "metadata": {
            "tags": []
          },
          "execution_count": 8
        }
      ]
    },
    {
      "cell_type": "code",
      "metadata": {
        "id": "0kq9jMMrFFdU",
        "colab_type": "code",
        "colab": {}
      },
      "source": [
        "def count(docs):\n",
        "\n",
        "        word_counts = Counter()\n",
        "        appears_in = Counter()\n",
        "        \n",
        "        total_docs = len(docs)\n",
        "\n",
        "        for doc in docs:\n",
        "            word_counts.update(doc)\n",
        "            appears_in.update(set(doc))\n",
        "\n",
        "        temp = zip(word_counts.keys(), word_counts.values())\n",
        "        \n",
        "        wc = pd.DataFrame(temp, columns = ['word', 'count'])\n",
        "\n",
        "        wc['rank'] = wc['count'].rank(method='first', ascending=False)\n",
        "        total = wc['count'].sum()\n",
        "\n",
        "        wc['pct_total'] = wc['count'].apply(lambda x: x / total)\n",
        "        \n",
        "        wc = wc.sort_values(by='rank')\n",
        "        wc['cul_pct_total'] = wc['pct_total'].cumsum()\n",
        "\n",
        "        t2 = zip(appears_in.keys(), appears_in.values())\n",
        "        ac = pd.DataFrame(t2, columns=['word', 'appears_in'])\n",
        "        wc = ac.merge(wc, on='word')\n",
        "\n",
        "        wc['appears_in_pct'] = wc['appears_in'].apply(lambda x: x / total_docs)\n",
        "        \n",
        "        return wc.sort_values(by='rank')"
      ],
      "execution_count": 0,
      "outputs": []
    },
    {
      "cell_type": "code",
      "metadata": {
        "id": "s04Cm82pFJzC",
        "colab_type": "code",
        "colab": {
          "base_uri": "https://localhost:8080/",
          "height": 1000
        },
        "outputId": "9056a5ac-fde9-4dac-89b2-f3ec09bf64e8"
      },
      "source": [
        "wc = count(df['tokens'])\n",
        "\n",
        "wc.head(40)\n"
      ],
      "execution_count": 10,
      "outputs": [
        {
          "output_type": "execute_result",
          "data": {
            "text/html": [
              "<div>\n",
              "<style scoped>\n",
              "    .dataframe tbody tr th:only-of-type {\n",
              "        vertical-align: middle;\n",
              "    }\n",
              "\n",
              "    .dataframe tbody tr th {\n",
              "        vertical-align: top;\n",
              "    }\n",
              "\n",
              "    .dataframe thead th {\n",
              "        text-align: right;\n",
              "    }\n",
              "</style>\n",
              "<table border=\"1\" class=\"dataframe\">\n",
              "  <thead>\n",
              "    <tr style=\"text-align: right;\">\n",
              "      <th></th>\n",
              "      <th>word</th>\n",
              "      <th>appears_in</th>\n",
              "      <th>count</th>\n",
              "      <th>rank</th>\n",
              "      <th>pct_total</th>\n",
              "      <th>cul_pct_total</th>\n",
              "      <th>appears_in_pct</th>\n",
              "    </tr>\n",
              "  </thead>\n",
              "  <tbody>\n",
              "    <tr>\n",
              "      <th>609</th>\n",
              "      <td>the</td>\n",
              "      <td>227</td>\n",
              "      <td>122318</td>\n",
              "      <td>1.0</td>\n",
              "      <td>0.076122</td>\n",
              "      <td>0.076122</td>\n",
              "      <td>0.995614</td>\n",
              "    </tr>\n",
              "    <tr>\n",
              "      <th>340</th>\n",
              "      <td>of</td>\n",
              "      <td>227</td>\n",
              "      <td>84846</td>\n",
              "      <td>2.0</td>\n",
              "      <td>0.052802</td>\n",
              "      <td>0.128924</td>\n",
              "      <td>0.995614</td>\n",
              "    </tr>\n",
              "    <tr>\n",
              "      <th>764</th>\n",
              "      <td>to</td>\n",
              "      <td>227</td>\n",
              "      <td>53162</td>\n",
              "      <td>3.0</td>\n",
              "      <td>0.033084</td>\n",
              "      <td>0.162008</td>\n",
              "      <td>0.995614</td>\n",
              "    </tr>\n",
              "    <tr>\n",
              "      <th>339</th>\n",
              "      <td>and</td>\n",
              "      <td>227</td>\n",
              "      <td>51211</td>\n",
              "      <td>4.0</td>\n",
              "      <td>0.031870</td>\n",
              "      <td>0.193878</td>\n",
              "      <td>0.995614</td>\n",
              "    </tr>\n",
              "    <tr>\n",
              "      <th>177</th>\n",
              "      <td>in</td>\n",
              "      <td>227</td>\n",
              "      <td>32786</td>\n",
              "      <td>5.0</td>\n",
              "      <td>0.020404</td>\n",
              "      <td>0.214282</td>\n",
              "      <td>0.995614</td>\n",
              "    </tr>\n",
              "    <tr>\n",
              "      <th>416</th>\n",
              "      <td>a</td>\n",
              "      <td>227</td>\n",
              "      <td>23880</td>\n",
              "      <td>6.0</td>\n",
              "      <td>0.014861</td>\n",
              "      <td>0.229143</td>\n",
              "      <td>0.995614</td>\n",
              "    </tr>\n",
              "    <tr>\n",
              "      <th>44</th>\n",
              "      <td>that</td>\n",
              "      <td>227</td>\n",
              "      <td>18637</td>\n",
              "      <td>7.0</td>\n",
              "      <td>0.011598</td>\n",
              "      <td>0.240741</td>\n",
              "      <td>0.995614</td>\n",
              "    </tr>\n",
              "    <tr>\n",
              "      <th>321</th>\n",
              "      <td>for</td>\n",
              "      <td>227</td>\n",
              "      <td>16165</td>\n",
              "      <td>8.0</td>\n",
              "      <td>0.010060</td>\n",
              "      <td>0.250801</td>\n",
              "      <td>0.995614</td>\n",
              "    </tr>\n",
              "    <tr>\n",
              "      <th>818</th>\n",
              "      <td>be</td>\n",
              "      <td>227</td>\n",
              "      <td>15968</td>\n",
              "      <td>9.0</td>\n",
              "      <td>0.009937</td>\n",
              "      <td>0.260739</td>\n",
              "      <td>0.995614</td>\n",
              "    </tr>\n",
              "    <tr>\n",
              "      <th>675</th>\n",
              "      <td>is</td>\n",
              "      <td>227</td>\n",
              "      <td>14893</td>\n",
              "      <td>10.0</td>\n",
              "      <td>0.009268</td>\n",
              "      <td>0.270007</td>\n",
              "      <td>0.995614</td>\n",
              "    </tr>\n",
              "    <tr>\n",
              "      <th>725</th>\n",
              "      <td>our</td>\n",
              "      <td>227</td>\n",
              "      <td>13995</td>\n",
              "      <td>11.0</td>\n",
              "      <td>0.008709</td>\n",
              "      <td>0.278716</td>\n",
              "      <td>0.995614</td>\n",
              "    </tr>\n",
              "    <tr>\n",
              "      <th>300</th>\n",
              "      <td>by</td>\n",
              "      <td>227</td>\n",
              "      <td>13032</td>\n",
              "      <td>12.0</td>\n",
              "      <td>0.008110</td>\n",
              "      <td>0.286827</td>\n",
              "      <td>0.995614</td>\n",
              "    </tr>\n",
              "    <tr>\n",
              "      <th>423</th>\n",
              "      <td>it</td>\n",
              "      <td>227</td>\n",
              "      <td>12530</td>\n",
              "      <td>13.0</td>\n",
              "      <td>0.007798</td>\n",
              "      <td>0.294624</td>\n",
              "      <td>0.995614</td>\n",
              "    </tr>\n",
              "    <tr>\n",
              "      <th>211</th>\n",
              "      <td>as</td>\n",
              "      <td>227</td>\n",
              "      <td>10528</td>\n",
              "      <td>14.0</td>\n",
              "      <td>0.006552</td>\n",
              "      <td>0.301176</td>\n",
              "      <td>0.995614</td>\n",
              "    </tr>\n",
              "    <tr>\n",
              "      <th>563</th>\n",
              "      <td>which</td>\n",
              "      <td>225</td>\n",
              "      <td>10411</td>\n",
              "      <td>15.0</td>\n",
              "      <td>0.006479</td>\n",
              "      <td>0.307655</td>\n",
              "      <td>0.986842</td>\n",
              "    </tr>\n",
              "    <tr>\n",
              "      <th>448</th>\n",
              "      <td>have</td>\n",
              "      <td>227</td>\n",
              "      <td>10261</td>\n",
              "      <td>16.0</td>\n",
              "      <td>0.006386</td>\n",
              "      <td>0.314041</td>\n",
              "      <td>0.995614</td>\n",
              "    </tr>\n",
              "    <tr>\n",
              "      <th>695</th>\n",
              "      <td>with</td>\n",
              "      <td>227</td>\n",
              "      <td>10133</td>\n",
              "      <td>17.0</td>\n",
              "      <td>0.006306</td>\n",
              "      <td>0.320347</td>\n",
              "      <td>0.995614</td>\n",
              "    </tr>\n",
              "    <tr>\n",
              "      <th>438</th>\n",
              "      <td>we</td>\n",
              "      <td>224</td>\n",
              "      <td>9971</td>\n",
              "      <td>18.0</td>\n",
              "      <td>0.006205</td>\n",
              "      <td>0.326552</td>\n",
              "      <td>0.982456</td>\n",
              "    </tr>\n",
              "    <tr>\n",
              "      <th>407</th>\n",
              "      <td>this</td>\n",
              "      <td>227</td>\n",
              "      <td>9754</td>\n",
              "      <td>19.0</td>\n",
              "      <td>0.006070</td>\n",
              "      <td>0.332622</td>\n",
              "      <td>0.995614</td>\n",
              "    </tr>\n",
              "    <tr>\n",
              "      <th>393</th>\n",
              "      <td>on</td>\n",
              "      <td>227</td>\n",
              "      <td>8225</td>\n",
              "      <td>20.0</td>\n",
              "      <td>0.005119</td>\n",
              "      <td>0.337741</td>\n",
              "      <td>0.995614</td>\n",
              "    </tr>\n",
              "    <tr>\n",
              "      <th>33</th>\n",
              "      <td>will</td>\n",
              "      <td>227</td>\n",
              "      <td>8080</td>\n",
              "      <td>21.0</td>\n",
              "      <td>0.005028</td>\n",
              "      <td>0.342769</td>\n",
              "      <td>0.995614</td>\n",
              "    </tr>\n",
              "    <tr>\n",
              "      <th>204</th>\n",
              "      <td>has</td>\n",
              "      <td>227</td>\n",
              "      <td>7860</td>\n",
              "      <td>22.0</td>\n",
              "      <td>0.004891</td>\n",
              "      <td>0.347661</td>\n",
              "      <td>0.995614</td>\n",
              "    </tr>\n",
              "    <tr>\n",
              "      <th>771</th>\n",
              "      <td>not</td>\n",
              "      <td>227</td>\n",
              "      <td>7708</td>\n",
              "      <td>23.0</td>\n",
              "      <td>0.004797</td>\n",
              "      <td>0.352458</td>\n",
              "      <td>0.995614</td>\n",
              "    </tr>\n",
              "    <tr>\n",
              "      <th>158</th>\n",
              "      <td>are</td>\n",
              "      <td>227</td>\n",
              "      <td>7633</td>\n",
              "      <td>24.0</td>\n",
              "      <td>0.004750</td>\n",
              "      <td>0.357208</td>\n",
              "      <td>0.995614</td>\n",
              "    </tr>\n",
              "    <tr>\n",
              "      <th>200</th>\n",
              "      <td>been</td>\n",
              "      <td>227</td>\n",
              "      <td>7266</td>\n",
              "      <td>25.0</td>\n",
              "      <td>0.004522</td>\n",
              "      <td>0.361730</td>\n",
              "      <td>0.995614</td>\n",
              "    </tr>\n",
              "    <tr>\n",
              "      <th>552</th>\n",
              "      <td>i</td>\n",
              "      <td>227</td>\n",
              "      <td>6996</td>\n",
              "      <td>26.0</td>\n",
              "      <td>0.004354</td>\n",
              "      <td>0.366084</td>\n",
              "      <td>0.995614</td>\n",
              "    </tr>\n",
              "    <tr>\n",
              "      <th>799</th>\n",
              "      <td>from</td>\n",
              "      <td>226</td>\n",
              "      <td>6259</td>\n",
              "      <td>27.0</td>\n",
              "      <td>0.003895</td>\n",
              "      <td>0.369979</td>\n",
              "      <td>0.991228</td>\n",
              "    </tr>\n",
              "    <tr>\n",
              "      <th>307</th>\n",
              "      <td>their</td>\n",
              "      <td>227</td>\n",
              "      <td>6184</td>\n",
              "      <td>28.0</td>\n",
              "      <td>0.003848</td>\n",
              "      <td>0.373827</td>\n",
              "      <td>0.995614</td>\n",
              "    </tr>\n",
              "    <tr>\n",
              "      <th>248</th>\n",
              "      <td>at</td>\n",
              "      <td>227</td>\n",
              "      <td>6023</td>\n",
              "      <td>29.0</td>\n",
              "      <td>0.003748</td>\n",
              "      <td>0.377576</td>\n",
              "      <td>0.995614</td>\n",
              "    </tr>\n",
              "    <tr>\n",
              "      <th>649</th>\n",
              "      <td>all</td>\n",
              "      <td>227</td>\n",
              "      <td>5569</td>\n",
              "      <td>30.0</td>\n",
              "      <td>0.003466</td>\n",
              "      <td>0.381041</td>\n",
              "      <td>0.995614</td>\n",
              "    </tr>\n",
              "    <tr>\n",
              "      <th>528</th>\n",
              "      <td>government</td>\n",
              "      <td>224</td>\n",
              "      <td>5187</td>\n",
              "      <td>31.0</td>\n",
              "      <td>0.003228</td>\n",
              "      <td>0.384269</td>\n",
              "      <td>0.982456</td>\n",
              "    </tr>\n",
              "    <tr>\n",
              "      <th>850</th>\n",
              "      <td>states</td>\n",
              "      <td>224</td>\n",
              "      <td>5159</td>\n",
              "      <td>32.0</td>\n",
              "      <td>0.003211</td>\n",
              "      <td>0.387480</td>\n",
              "      <td>0.982456</td>\n",
              "    </tr>\n",
              "    <tr>\n",
              "      <th>1190</th>\n",
              "      <td>or</td>\n",
              "      <td>226</td>\n",
              "      <td>5090</td>\n",
              "      <td>33.0</td>\n",
              "      <td>0.003168</td>\n",
              "      <td>0.390648</td>\n",
              "      <td>0.991228</td>\n",
              "    </tr>\n",
              "    <tr>\n",
              "      <th>513</th>\n",
              "      <td>an</td>\n",
              "      <td>227</td>\n",
              "      <td>5041</td>\n",
              "      <td>34.0</td>\n",
              "      <td>0.003137</td>\n",
              "      <td>0.393785</td>\n",
              "      <td>0.995614</td>\n",
              "    </tr>\n",
              "    <tr>\n",
              "      <th>77</th>\n",
              "      <td>its</td>\n",
              "      <td>225</td>\n",
              "      <td>4942</td>\n",
              "      <td>35.0</td>\n",
              "      <td>0.003076</td>\n",
              "      <td>0.396860</td>\n",
              "      <td>0.986842</td>\n",
              "    </tr>\n",
              "    <tr>\n",
              "      <th>294</th>\n",
              "      <td>was</td>\n",
              "      <td>223</td>\n",
              "      <td>4791</td>\n",
              "      <td>36.0</td>\n",
              "      <td>0.002982</td>\n",
              "      <td>0.399842</td>\n",
              "      <td>0.978070</td>\n",
              "    </tr>\n",
              "    <tr>\n",
              "      <th>745</th>\n",
              "      <td>but</td>\n",
              "      <td>226</td>\n",
              "      <td>4642</td>\n",
              "      <td>37.0</td>\n",
              "      <td>0.002889</td>\n",
              "      <td>0.402731</td>\n",
              "      <td>0.991228</td>\n",
              "    </tr>\n",
              "    <tr>\n",
              "      <th>610</th>\n",
              "      <td>should</td>\n",
              "      <td>223</td>\n",
              "      <td>4342</td>\n",
              "      <td>38.0</td>\n",
              "      <td>0.002702</td>\n",
              "      <td>0.405433</td>\n",
              "      <td>0.978070</td>\n",
              "    </tr>\n",
              "    <tr>\n",
              "      <th>830</th>\n",
              "      <td>they</td>\n",
              "      <td>226</td>\n",
              "      <td>4146</td>\n",
              "      <td>39.0</td>\n",
              "      <td>0.002580</td>\n",
              "      <td>0.408013</td>\n",
              "      <td>0.991228</td>\n",
              "    </tr>\n",
              "    <tr>\n",
              "      <th>14</th>\n",
              "      <td>united</td>\n",
              "      <td>224</td>\n",
              "      <td>3906</td>\n",
              "      <td>40.0</td>\n",
              "      <td>0.002431</td>\n",
              "      <td>0.410444</td>\n",
              "      <td>0.982456</td>\n",
              "    </tr>\n",
              "  </tbody>\n",
              "</table>\n",
              "</div>"
            ],
            "text/plain": [
              "            word  appears_in   count  ...  pct_total  cul_pct_total  appears_in_pct\n",
              "609          the         227  122318  ...   0.076122       0.076122        0.995614\n",
              "340           of         227   84846  ...   0.052802       0.128924        0.995614\n",
              "764           to         227   53162  ...   0.033084       0.162008        0.995614\n",
              "339          and         227   51211  ...   0.031870       0.193878        0.995614\n",
              "177           in         227   32786  ...   0.020404       0.214282        0.995614\n",
              "416            a         227   23880  ...   0.014861       0.229143        0.995614\n",
              "44          that         227   18637  ...   0.011598       0.240741        0.995614\n",
              "321          for         227   16165  ...   0.010060       0.250801        0.995614\n",
              "818           be         227   15968  ...   0.009937       0.260739        0.995614\n",
              "675           is         227   14893  ...   0.009268       0.270007        0.995614\n",
              "725          our         227   13995  ...   0.008709       0.278716        0.995614\n",
              "300           by         227   13032  ...   0.008110       0.286827        0.995614\n",
              "423           it         227   12530  ...   0.007798       0.294624        0.995614\n",
              "211           as         227   10528  ...   0.006552       0.301176        0.995614\n",
              "563        which         225   10411  ...   0.006479       0.307655        0.986842\n",
              "448         have         227   10261  ...   0.006386       0.314041        0.995614\n",
              "695         with         227   10133  ...   0.006306       0.320347        0.995614\n",
              "438           we         224    9971  ...   0.006205       0.326552        0.982456\n",
              "407         this         227    9754  ...   0.006070       0.332622        0.995614\n",
              "393           on         227    8225  ...   0.005119       0.337741        0.995614\n",
              "33          will         227    8080  ...   0.005028       0.342769        0.995614\n",
              "204          has         227    7860  ...   0.004891       0.347661        0.995614\n",
              "771          not         227    7708  ...   0.004797       0.352458        0.995614\n",
              "158          are         227    7633  ...   0.004750       0.357208        0.995614\n",
              "200         been         227    7266  ...   0.004522       0.361730        0.995614\n",
              "552            i         227    6996  ...   0.004354       0.366084        0.995614\n",
              "799         from         226    6259  ...   0.003895       0.369979        0.991228\n",
              "307        their         227    6184  ...   0.003848       0.373827        0.995614\n",
              "248           at         227    6023  ...   0.003748       0.377576        0.995614\n",
              "649          all         227    5569  ...   0.003466       0.381041        0.995614\n",
              "528   government         224    5187  ...   0.003228       0.384269        0.982456\n",
              "850       states         224    5159  ...   0.003211       0.387480        0.982456\n",
              "1190          or         226    5090  ...   0.003168       0.390648        0.991228\n",
              "513           an         227    5041  ...   0.003137       0.393785        0.995614\n",
              "77           its         225    4942  ...   0.003076       0.396860        0.986842\n",
              "294          was         223    4791  ...   0.002982       0.399842        0.978070\n",
              "745          but         226    4642  ...   0.002889       0.402731        0.991228\n",
              "610       should         223    4342  ...   0.002702       0.405433        0.978070\n",
              "830         they         226    4146  ...   0.002580       0.408013        0.991228\n",
              "14        united         224    3906  ...   0.002431       0.410444        0.982456\n",
              "\n",
              "[40 rows x 7 columns]"
            ]
          },
          "metadata": {
            "tags": []
          },
          "execution_count": 10
        }
      ]
    },
    {
      "cell_type": "code",
      "metadata": {
        "id": "WvO85EjsFdSO",
        "colab_type": "code",
        "colab": {
          "base_uri": "https://localhost:8080/",
          "height": 269
        },
        "outputId": "6fd581c6-5764-4142-e264-a0d80a1be6c5"
      },
      "source": [
        "wc_top20 = wc[wc['rank'] <= 20]\n",
        "\n",
        "squarify.plot(sizes=wc_top20['pct_total'], label=wc_top20['word'], alpha=.8 )\n",
        "plt.axis('off')\n",
        "plt.show()"
      ],
      "execution_count": 11,
      "outputs": [
        {
          "output_type": "display_data",
          "data": {
            "image/png": "[encoded data removed]",
            "text/plain": [
              "<Figure size 432x288 with 1 Axes>"
            ]
          },
          "metadata": {
            "tags": []
          }
        }
      ]
    },
    {
      "cell_type": "code",
      "metadata": {
        "id": "_SpgijvmXw1r",
        "colab_type": "code",
        "colab": {}
      },
      "source": [
        ""
      ],
      "execution_count": 0,
      "outputs": []
    },
    {
      "cell_type": "markdown",
      "metadata": {
        "id": "dKE9B_Mskxqw",
        "colab_type": "text"
      },
      "source": [
        "\n",
        "\n",
        "---\n",
        "\n"
      ]
    },
    {
      "cell_type": "markdown",
      "metadata": {
        "id": "U4FDZJUNF4I4",
        "colab_type": "text"
      },
      "source": [
        "## Tokenize (spacy)"
      ]
    },
    {
      "cell_type": "code",
      "metadata": {
        "id": "Py1g3nvuF6xq",
        "colab_type": "code",
        "colab": {
          "base_uri": "https://localhost:8080/",
          "height": 125
        },
        "outputId": "f025d282-b982-4c94-96a6-44082e581d1f"
      },
      "source": [
        "tokenizer = Tokenizer(nlp.vocab)\n",
        "\n",
        "tokens = []\n",
        "\n",
        "\"\"\" Make them tokens \"\"\"\n",
        "for doc in tokenizer.pipe(df['content'], batch_size=500):\n",
        "    doc_tokens = [token.text for token in doc]\n",
        "    tokens.append(doc_tokens)\n",
        "    \n",
        "df['tokens'] = tokens\n",
        "\n",
        "df['tokens'].head()"
      ],
      "execution_count": 12,
      "outputs": [
        {
          "output_type": "execute_result",
          "data": {
            "text/plain": [
              "125                                                   []\n",
              "127    [Fellow-Citizens, of, the, Senate, and, House,...\n",
              "138    [Fellow-Citizens, of, the, Senate, and, House,...\n",
              "136    [Fellow-Citizens, of, the, Senate, and, House,...\n",
              "163    [Fellow-Citizens, of, the, Senate, and, House,...\n",
              "Name: tokens, dtype: object"
            ]
          },
          "metadata": {
            "tags": []
          },
          "execution_count": 12
        }
      ]
    },
    {
      "cell_type": "code",
      "metadata": {
        "id": "QAPoXVQJGQ79",
        "colab_type": "code",
        "colab": {
          "base_uri": "https://localhost:8080/",
          "height": 269
        },
        "outputId": "7639773e-b1e5-44ac-9fc8-0d79816f473b"
      },
      "source": [
        "wc = count(df['tokens'])\n",
        "\n",
        "wc_top20 = wc[wc['rank'] <= 20]\n",
        "\n",
        "squarify.plot(sizes=wc_top20['pct_total'], label=wc_top20['word'], alpha=.8 )\n",
        "plt.axis('off')\n",
        "plt.show()"
      ],
      "execution_count": 13,
      "outputs": [
        {
          "output_type": "display_data",
          "data": {
            "image/png": "[encoded data removed]",
            "text/plain": [
              "<Figure size 432x288 with 1 Axes>"
            ]
          },
          "metadata": {
            "tags": []
          }
        }
      ]
    },
    {
      "cell_type": "code",
      "metadata": {
        "id": "DTa61OIgZa5u",
        "colab_type": "code",
        "colab": {
          "base_uri": "https://localhost:8080/",
          "height": 669
        },
        "outputId": "9759bcf8-9998-4271-d82f-cd73649f0ba1"
      },
      "source": [
        "wc_top20"
      ],
      "execution_count": 14,
      "outputs": [
        {
          "output_type": "execute_result",
          "data": {
            "text/html": [
              "<div>\n",
              "<style scoped>\n",
              "    .dataframe tbody tr th:only-of-type {\n",
              "        vertical-align: middle;\n",
              "    }\n",
              "\n",
              "    .dataframe tbody tr th {\n",
              "        vertical-align: top;\n",
              "    }\n",
              "\n",
              "    .dataframe thead th {\n",
              "        text-align: right;\n",
              "    }\n",
              "</style>\n",
              "<table border=\"1\" class=\"dataframe\">\n",
              "  <thead>\n",
              "    <tr style=\"text-align: right;\">\n",
              "      <th></th>\n",
              "      <th>word</th>\n",
              "      <th>appears_in</th>\n",
              "      <th>count</th>\n",
              "      <th>rank</th>\n",
              "      <th>pct_total</th>\n",
              "      <th>cul_pct_total</th>\n",
              "      <th>appears_in_pct</th>\n",
              "    </tr>\n",
              "  </thead>\n",
              "  <tbody>\n",
              "    <tr>\n",
              "      <th>615</th>\n",
              "      <td>the</td>\n",
              "      <td>227</td>\n",
              "      <td>137568</td>\n",
              "      <td>1.0</td>\n",
              "      <td>0.071619</td>\n",
              "      <td>0.071619</td>\n",
              "      <td>0.995614</td>\n",
              "    </tr>\n",
              "    <tr>\n",
              "      <th>458</th>\n",
              "      <td>\\n</td>\n",
              "      <td>227</td>\n",
              "      <td>135374</td>\n",
              "      <td>2.0</td>\n",
              "      <td>0.070477</td>\n",
              "      <td>0.142095</td>\n",
              "      <td>0.995614</td>\n",
              "    </tr>\n",
              "    <tr>\n",
              "      <th>345</th>\n",
              "      <td>of</td>\n",
              "      <td>227</td>\n",
              "      <td>95751</td>\n",
              "      <td>3.0</td>\n",
              "      <td>0.049849</td>\n",
              "      <td>0.191944</td>\n",
              "      <td>0.995614</td>\n",
              "    </tr>\n",
              "    <tr>\n",
              "      <th>779</th>\n",
              "      <td>to</td>\n",
              "      <td>227</td>\n",
              "      <td>59303</td>\n",
              "      <td>4.0</td>\n",
              "      <td>0.030874</td>\n",
              "      <td>0.222817</td>\n",
              "      <td>0.995614</td>\n",
              "    </tr>\n",
              "    <tr>\n",
              "      <th>343</th>\n",
              "      <td>and</td>\n",
              "      <td>227</td>\n",
              "      <td>58152</td>\n",
              "      <td>5.0</td>\n",
              "      <td>0.030274</td>\n",
              "      <td>0.253092</td>\n",
              "      <td>0.995614</td>\n",
              "    </tr>\n",
              "    <tr>\n",
              "      <th>179</th>\n",
              "      <td>in</td>\n",
              "      <td>227</td>\n",
              "      <td>35144</td>\n",
              "      <td>6.0</td>\n",
              "      <td>0.018296</td>\n",
              "      <td>0.271388</td>\n",
              "      <td>0.995614</td>\n",
              "    </tr>\n",
              "    <tr>\n",
              "      <th>418</th>\n",
              "      <td>a</td>\n",
              "      <td>227</td>\n",
              "      <td>26490</td>\n",
              "      <td>7.0</td>\n",
              "      <td>0.013791</td>\n",
              "      <td>0.285179</td>\n",
              "      <td>0.995614</td>\n",
              "    </tr>\n",
              "    <tr>\n",
              "      <th>653</th>\n",
              "      <td>\\n\\n</td>\n",
              "      <td>227</td>\n",
              "      <td>20904</td>\n",
              "      <td>8.0</td>\n",
              "      <td>0.010883</td>\n",
              "      <td>0.296062</td>\n",
              "      <td>0.995614</td>\n",
              "    </tr>\n",
              "    <tr>\n",
              "      <th>44</th>\n",
              "      <td>that</td>\n",
              "      <td>227</td>\n",
              "      <td>20616</td>\n",
              "      <td>9.0</td>\n",
              "      <td>0.010733</td>\n",
              "      <td>0.306794</td>\n",
              "      <td>0.995614</td>\n",
              "    </tr>\n",
              "    <tr>\n",
              "      <th>833</th>\n",
              "      <td>be</td>\n",
              "      <td>227</td>\n",
              "      <td>18383</td>\n",
              "      <td>10.0</td>\n",
              "      <td>0.009570</td>\n",
              "      <td>0.316365</td>\n",
              "      <td>0.995614</td>\n",
              "    </tr>\n",
              "    <tr>\n",
              "      <th>331</th>\n",
              "      <td>for</td>\n",
              "      <td>227</td>\n",
              "      <td>18054</td>\n",
              "      <td>11.0</td>\n",
              "      <td>0.009399</td>\n",
              "      <td>0.325764</td>\n",
              "      <td>0.995614</td>\n",
              "    </tr>\n",
              "    <tr>\n",
              "      <th>693</th>\n",
              "      <td>is</td>\n",
              "      <td>227</td>\n",
              "      <td>16519</td>\n",
              "      <td>12.0</td>\n",
              "      <td>0.008600</td>\n",
              "      <td>0.334364</td>\n",
              "      <td>0.995614</td>\n",
              "    </tr>\n",
              "    <tr>\n",
              "      <th>736</th>\n",
              "      <td>our</td>\n",
              "      <td>227</td>\n",
              "      <td>15828</td>\n",
              "      <td>13.0</td>\n",
              "      <td>0.008240</td>\n",
              "      <td>0.342604</td>\n",
              "      <td>0.995614</td>\n",
              "    </tr>\n",
              "    <tr>\n",
              "      <th>305</th>\n",
              "      <td>by</td>\n",
              "      <td>227</td>\n",
              "      <td>14445</td>\n",
              "      <td>14.0</td>\n",
              "      <td>0.007520</td>\n",
              "      <td>0.350124</td>\n",
              "      <td>0.995614</td>\n",
              "    </tr>\n",
              "    <tr>\n",
              "      <th>452</th>\n",
              "      <td>have</td>\n",
              "      <td>227</td>\n",
              "      <td>11858</td>\n",
              "      <td>15.0</td>\n",
              "      <td>0.006173</td>\n",
              "      <td>0.356297</td>\n",
              "      <td>0.995614</td>\n",
              "    </tr>\n",
              "    <tr>\n",
              "      <th>573</th>\n",
              "      <td>which</td>\n",
              "      <td>224</td>\n",
              "      <td>11818</td>\n",
              "      <td>16.0</td>\n",
              "      <td>0.006153</td>\n",
              "      <td>0.362450</td>\n",
              "      <td>0.982456</td>\n",
              "    </tr>\n",
              "    <tr>\n",
              "      <th>25</th>\n",
              "      <td>The</td>\n",
              "      <td>227</td>\n",
              "      <td>11435</td>\n",
              "      <td>17.0</td>\n",
              "      <td>0.005953</td>\n",
              "      <td>0.368403</td>\n",
              "      <td>0.995614</td>\n",
              "    </tr>\n",
              "    <tr>\n",
              "      <th>712</th>\n",
              "      <td>with</td>\n",
              "      <td>227</td>\n",
              "      <td>11374</td>\n",
              "      <td>18.0</td>\n",
              "      <td>0.005921</td>\n",
              "      <td>0.374324</td>\n",
              "      <td>0.995614</td>\n",
              "    </tr>\n",
              "    <tr>\n",
              "      <th>210</th>\n",
              "      <td>as</td>\n",
              "      <td>227</td>\n",
              "      <td>11287</td>\n",
              "      <td>19.0</td>\n",
              "      <td>0.005876</td>\n",
              "      <td>0.380200</td>\n",
              "      <td>0.995614</td>\n",
              "    </tr>\n",
              "    <tr>\n",
              "      <th>425</th>\n",
              "      <td>it</td>\n",
              "      <td>227</td>\n",
              "      <td>9987</td>\n",
              "      <td>20.0</td>\n",
              "      <td>0.005199</td>\n",
              "      <td>0.385400</td>\n",
              "      <td>0.995614</td>\n",
              "    </tr>\n",
              "  </tbody>\n",
              "</table>\n",
              "</div>"
            ],
            "text/plain": [
              "      word  appears_in   count  rank  pct_total  cul_pct_total  appears_in_pct\n",
              "615    the         227  137568   1.0   0.071619       0.071619        0.995614\n",
              "458     \\n         227  135374   2.0   0.070477       0.142095        0.995614\n",
              "345     of         227   95751   3.0   0.049849       0.191944        0.995614\n",
              "779     to         227   59303   4.0   0.030874       0.222817        0.995614\n",
              "343    and         227   58152   5.0   0.030274       0.253092        0.995614\n",
              "179     in         227   35144   6.0   0.018296       0.271388        0.995614\n",
              "418      a         227   26490   7.0   0.013791       0.285179        0.995614\n",
              "653   \\n\\n         227   20904   8.0   0.010883       0.296062        0.995614\n",
              "44    that         227   20616   9.0   0.010733       0.306794        0.995614\n",
              "833     be         227   18383  10.0   0.009570       0.316365        0.995614\n",
              "331    for         227   18054  11.0   0.009399       0.325764        0.995614\n",
              "693     is         227   16519  12.0   0.008600       0.334364        0.995614\n",
              "736    our         227   15828  13.0   0.008240       0.342604        0.995614\n",
              "305     by         227   14445  14.0   0.007520       0.350124        0.995614\n",
              "452   have         227   11858  15.0   0.006173       0.356297        0.995614\n",
              "573  which         224   11818  16.0   0.006153       0.362450        0.982456\n",
              "25     The         227   11435  17.0   0.005953       0.368403        0.995614\n",
              "712   with         227   11374  18.0   0.005921       0.374324        0.995614\n",
              "210     as         227   11287  19.0   0.005876       0.380200        0.995614\n",
              "425     it         227    9987  20.0   0.005199       0.385400        0.995614"
            ]
          },
          "metadata": {
            "tags": []
          },
          "execution_count": 14
        }
      ]
    },
    {
      "cell_type": "markdown",
      "metadata": {
        "id": "GNsNVVnhGvR8",
        "colab_type": "text"
      },
      "source": [
        "### Stop Words"
      ]
    },
    {
      "cell_type": "code",
      "metadata": {
        "id": "RApRMFpYGxUK",
        "colab_type": "code",
        "colab": {}
      },
      "source": [
        "tokens = []\n",
        "\n",
        "\"\"\" Update those tokens \"\"\"\n",
        "for doc in tokenizer.pipe(df['content'], batch_size=500):\n",
        "    \n",
        "    doc_tokens = []\n",
        "\n",
        "    for token in doc:\n",
        "        if (token.is_stop == False) and (token.is_punct == False):\n",
        "            doc_tokens.append(token.text.lower())\n",
        "            \n",
        "    tokens.append(doc_tokens)\n",
        "            \n",
        "df['tokens'] = tokens"
      ],
      "execution_count": 0,
      "outputs": []
    },
    {
      "cell_type": "code",
      "metadata": {
        "id": "9qClY7gDGzXZ",
        "colab_type": "code",
        "colab": {
          "base_uri": "https://localhost:8080/",
          "height": 269
        },
        "outputId": "92066faa-7f67-4755-f16b-b17e78c28716"
      },
      "source": [
        "wc = count(df['tokens'])\n",
        "\n",
        "wc_top20 = wc[wc['rank'] <= 20]\n",
        "\n",
        "squarify.plot(sizes=wc_top20['pct_total'], label=wc_top20['word'], alpha=.8 )\n",
        "plt.axis('off')\n",
        "plt.show()"
      ],
      "execution_count": 16,
      "outputs": [
        {
          "output_type": "display_data",
          "data": {
            "image/png": "[encoded data removed]",
            "text/plain": [
              "<Figure size 432x288 with 1 Axes>"
            ]
          },
          "metadata": {
            "tags": []
          }
        }
      ]
    },
    {
      "cell_type": "markdown",
      "metadata": {
        "id": "0attKeIHHEPB",
        "colab_type": "text"
      },
      "source": [
        "### Extending Stopwords"
      ]
    },
    {
      "cell_type": "code",
      "metadata": {
        "id": "hT6z1N2UHDqg",
        "colab_type": "code",
        "colab": {}
      },
      "source": [
        "STOP_WORDS = nlp.Defaults.stop_words.union(['\\n', 'government', 'congress', 'united', 'states', \"great\", '\\n\\n', 'the', 'i'])"
      ],
      "execution_count": 0,
      "outputs": []
    },
    {
      "cell_type": "code",
      "metadata": {
        "id": "cWS3W95VZu1Y",
        "colab_type": "code",
        "colab": {
          "base_uri": "https://localhost:8080/",
          "height": 35
        },
        "outputId": "84b658ff-4767-4c92-8614-00fb867ea287"
      },
      "source": [
        "'government' in STOP_WORDS"
      ],
      "execution_count": 18,
      "outputs": [
        {
          "output_type": "execute_result",
          "data": {
            "text/plain": [
              "True"
            ]
          },
          "metadata": {
            "tags": []
          },
          "execution_count": 18
        }
      ]
    },
    {
      "cell_type": "code",
      "metadata": {
        "id": "YrOmQ_dIHR-y",
        "colab_type": "code",
        "colab": {}
      },
      "source": [
        "tokens = []\n",
        "\n",
        "for doc in tokenizer.pipe(df['content'], batch_size=500):\n",
        "    \n",
        "    doc_tokens = []\n",
        "    \n",
        "    for token in doc: \n",
        "        if token.text not in STOP_WORDS:\n",
        "            doc_tokens.append(token.text.lower())\n",
        "   \n",
        "    tokens.append(doc_tokens)\n",
        "    \n",
        "df['tokens'] = tokens"
      ],
      "execution_count": 0,
      "outputs": []
    },
    {
      "cell_type": "code",
      "metadata": {
        "id": "sPmisdNNHWLn",
        "colab_type": "code",
        "colab": {
          "base_uri": "https://localhost:8080/",
          "height": 395
        },
        "outputId": "4656d9b9-fec0-4591-abea-a9240f2bb82f"
      },
      "source": [
        "wc = count(df['tokens'])\n",
        "\n",
        "wc_top20 = wc[wc['rank'] <= 20]\n",
        "\n",
        "wc_top20['word']"
      ],
      "execution_count": 20,
      "outputs": [
        {
          "output_type": "execute_result",
          "data": {
            "text/plain": [
              "534            the\n",
              "482              i\n",
              "13          united\n",
              "749         states\n",
              "458     government\n",
              "362             it\n",
              "911       congress\n",
              "3263            we\n",
              "156             in\n",
              "721         public\n",
              "390            new\n",
              "1803        people\n",
              "2263      american\n",
              "266           year\n",
              "141           time\n",
              "991           this\n",
              "607       national\n",
              "352        country\n",
              "740        present\n",
              "761            war\n",
              "Name: word, dtype: object"
            ]
          },
          "metadata": {
            "tags": []
          },
          "execution_count": 20
        }
      ]
    },
    {
      "cell_type": "code",
      "metadata": {
        "id": "ORNNUtqfaN-T",
        "colab_type": "code",
        "colab": {
          "base_uri": "https://localhost:8080/",
          "height": 269
        },
        "outputId": "eb2b7459-603d-4cc9-8699-4d81d1239891"
      },
      "source": [
        "squarify.plot(sizes=wc_top20['pct_total'], label=wc_top20['word'], alpha=.8 )\n",
        "plt.axis('off')\n",
        "plt.show()"
      ],
      "execution_count": 21,
      "outputs": [
        {
          "output_type": "display_data",
          "data": {
            "image/png": "[encoded data removed]",
            "text/plain": [
              "<Figure size 432x288 with 1 Axes>"
            ]
          },
          "metadata": {
            "tags": []
          }
        }
      ]
    },
    {
      "cell_type": "markdown",
      "metadata": {
        "id": "kb_24IC7F653",
        "colab_type": "text"
      },
      "source": [
        "\n",
        "\n",
        "---\n",
        "\n"
      ]
    },
    {
      "cell_type": "markdown",
      "metadata": {
        "id": "dYn445UHa4r-",
        "colab_type": "text"
      },
      "source": [
        "## Stemming"
      ]
    },
    {
      "cell_type": "code",
      "metadata": {
        "id": "4nWDNUY6a6hk",
        "colab_type": "code",
        "colab": {}
      },
      "source": [
        "ps = PorterStemmer()"
      ],
      "execution_count": 0,
      "outputs": []
    },
    {
      "cell_type": "code",
      "metadata": {
        "id": "AwdjxoYIchrT",
        "colab_type": "code",
        "colab": {}
      },
      "source": [
        "df['stems'] = df['tokens']"
      ],
      "execution_count": 0,
      "outputs": []
    },
    {
      "cell_type": "code",
      "metadata": {
        "id": "JxERTz5wbXPN",
        "colab_type": "code",
        "colab": {
          "base_uri": "https://localhost:8080/",
          "height": 107
        },
        "outputId": "cc47f0e6-de18-4f74-f75b-1049a302a89d"
      },
      "source": [
        "for _ in range(len(df['tokens'])):\n",
        "  stems = []\n",
        "  for word in df['tokens'][_]:\n",
        "    stems.append(ps.stem(word))\n",
        "  df['stems'][_] = stems"
      ],
      "execution_count": 24,
      "outputs": [
        {
          "output_type": "stream",
          "text": [
            "/usr/local/lib/python3.6/dist-packages/ipykernel_launcher.py:5: SettingWithCopyWarning: \n",
            "A value is trying to be set on a copy of a slice from a DataFrame\n",
            "\n",
            "See the caveats in the documentation: http://pandas.pydata.org/pandas-docs/stable/indexing.html#indexing-view-versus-copy\n",
            "  \"\"\"\n"
          ],
          "name": "stderr"
        }
      ]
    },
    {
      "cell_type": "code",
      "metadata": {
        "id": "sn91TKDDdx1g",
        "colab_type": "code",
        "colab": {
          "base_uri": "https://localhost:8080/",
          "height": 204
        },
        "outputId": "e562892b-8a61-4c2f-d9fe-3fcda08a0eb9"
      },
      "source": [
        "wc = count(df['stems'])\n",
        "\n",
        "wc.head()"
      ],
      "execution_count": 25,
      "outputs": [
        {
          "output_type": "execute_result",
          "data": {
            "text/html": [
              "<div>\n",
              "<style scoped>\n",
              "    .dataframe tbody tr th:only-of-type {\n",
              "        vertical-align: middle;\n",
              "    }\n",
              "\n",
              "    .dataframe tbody tr th {\n",
              "        vertical-align: top;\n",
              "    }\n",
              "\n",
              "    .dataframe thead th {\n",
              "        text-align: right;\n",
              "    }\n",
              "</style>\n",
              "<table border=\"1\" class=\"dataframe\">\n",
              "  <thead>\n",
              "    <tr style=\"text-align: right;\">\n",
              "      <th></th>\n",
              "      <th>word</th>\n",
              "      <th>appears_in</th>\n",
              "      <th>count</th>\n",
              "      <th>rank</th>\n",
              "      <th>pct_total</th>\n",
              "      <th>cul_pct_total</th>\n",
              "      <th>appears_in_pct</th>\n",
              "    </tr>\n",
              "  </thead>\n",
              "  <tbody>\n",
              "    <tr>\n",
              "      <th>497</th>\n",
              "      <td>the</td>\n",
              "      <td>227</td>\n",
              "      <td>11580</td>\n",
              "      <td>1.0</td>\n",
              "      <td>0.013396</td>\n",
              "      <td>0.013396</td>\n",
              "      <td>0.995614</td>\n",
              "    </tr>\n",
              "    <tr>\n",
              "      <th>444</th>\n",
              "      <td>i</td>\n",
              "      <td>227</td>\n",
              "      <td>9097</td>\n",
              "      <td>2.0</td>\n",
              "      <td>0.010524</td>\n",
              "      <td>0.023920</td>\n",
              "      <td>0.995614</td>\n",
              "    </tr>\n",
              "    <tr>\n",
              "      <th>615</th>\n",
              "      <td>state</td>\n",
              "      <td>227</td>\n",
              "      <td>6271</td>\n",
              "      <td>3.0</td>\n",
              "      <td>0.007254</td>\n",
              "      <td>0.031174</td>\n",
              "      <td>0.995614</td>\n",
              "    </tr>\n",
              "    <tr>\n",
              "      <th>243</th>\n",
              "      <td>unit</td>\n",
              "      <td>225</td>\n",
              "      <td>4823</td>\n",
              "      <td>4.0</td>\n",
              "      <td>0.005579</td>\n",
              "      <td>0.036753</td>\n",
              "      <td>0.986842</td>\n",
              "    </tr>\n",
              "    <tr>\n",
              "      <th>174</th>\n",
              "      <td>govern</td>\n",
              "      <td>214</td>\n",
              "      <td>4814</td>\n",
              "      <td>5.0</td>\n",
              "      <td>0.005569</td>\n",
              "      <td>0.042322</td>\n",
              "      <td>0.938596</td>\n",
              "    </tr>\n",
              "  </tbody>\n",
              "</table>\n",
              "</div>"
            ],
            "text/plain": [
              "       word  appears_in  count  rank  pct_total  cul_pct_total  appears_in_pct\n",
              "497     the         227  11580   1.0   0.013396       0.013396        0.995614\n",
              "444       i         227   9097   2.0   0.010524       0.023920        0.995614\n",
              "615   state         227   6271   3.0   0.007254       0.031174        0.995614\n",
              "243    unit         225   4823   4.0   0.005579       0.036753        0.986842\n",
              "174  govern         214   4814   5.0   0.005569       0.042322        0.938596"
            ]
          },
          "metadata": {
            "tags": []
          },
          "execution_count": 25
        }
      ]
    },
    {
      "cell_type": "code",
      "metadata": {
        "id": "k2hjnQJTbD95",
        "colab_type": "code",
        "colab": {
          "base_uri": "https://localhost:8080/",
          "height": 269
        },
        "outputId": "215dc007-1451-432f-d4ef-cf7b7df0bbb1"
      },
      "source": [
        "wc_top20 = wc[wc['rank'] <= 20]\n",
        "\n",
        "squarify.plot(sizes=wc_top20['pct_total'], label=wc_top20['word'], alpha=.8 )\n",
        "plt.axis('off')\n",
        "plt.show()"
      ],
      "execution_count": 26,
      "outputs": [
        {
          "output_type": "display_data",
          "data": {
            "image/png": "[encoded data removed]",
            "text/plain": [
              "<Figure size 432x288 with 1 Axes>"
            ]
          },
          "metadata": {
            "tags": []
          }
        }
      ]
    },
    {
      "cell_type": "markdown",
      "metadata": {
        "id": "jhWmSXzHa6pj",
        "colab_type": "text"
      },
      "source": [
        "\n",
        "\n",
        "---\n",
        "\n"
      ]
    },
    {
      "cell_type": "markdown",
      "metadata": {
        "id": "zha42pYTc7wC",
        "colab_type": "text"
      },
      "source": [
        "## Lemmatization"
      ]
    },
    {
      "cell_type": "code",
      "metadata": {
        "id": "mhqabHrGc-Dt",
        "colab_type": "code",
        "colab": {}
      },
      "source": [
        "def get_lemmas(text):\n",
        "\n",
        "    lemmas = []\n",
        "    \n",
        "    doc = nlp(text)\n",
        "    \n",
        "    for token in doc: \n",
        "        if ((token.is_stop == False) and (token.is_punct == False)) and (token.pos_!= 'PRON'):\n",
        "            lemmas.append(token.lemma_)\n",
        "    \n",
        "    return lemmas"
      ],
      "execution_count": 0,
      "outputs": []
    },
    {
      "cell_type": "code",
      "metadata": {
        "id": "Q_SN5_dGdFWV",
        "colab_type": "code",
        "colab": {}
      },
      "source": [
        "#df['lemmas'] = df['content'].apply(get_lemmas)"
      ],
      "execution_count": 0,
      "outputs": []
    },
    {
      "cell_type": "code",
      "metadata": {
        "id": "wlTO05XHdKCN",
        "colab_type": "code",
        "colab": {}
      },
      "source": [
        "#wc = count(df['lemmas'])\n",
        "#wc_top20 = wc[wc['rank'] <= 20]\n",
        "\n",
        "#squarify.plot(sizes=wc_top20['pct_total'], label=wc_top20['word'], alpha=.8 )\n",
        "#plt.axis('off')\n",
        "#plt.show()"
      ],
      "execution_count": 0,
      "outputs": []
    },
    {
      "cell_type": "markdown",
      "metadata": {
        "id": "leNpJw9hc-NH",
        "colab_type": "text"
      },
      "source": [
        "\n",
        "\n",
        "---\n",
        "\n"
      ]
    },
    {
      "cell_type": "markdown",
      "metadata": {
        "colab_type": "text",
        "id": "1dCb1q8XphcP",
        "toc-hr-collapsed": true
      },
      "source": [
        "## Stretch Goals\n",
        "\n",
        "* Write a web scraper that can scrape \"Data Scientist\" job listings from indeed.com.\n",
        "* Look ahead to some of the topics from later this week:\n",
        " - Part of Speech Tagging\n",
        " - Named Entity Recognition\n",
        " - Document Classification\n",
        "* Try a different visualization techniques\n",
        "* Automate the process of retriving job listings. ;)"
      ]
    },
    {
      "cell_type": "code",
      "metadata": {
        "id": "iHue1L41fRkK",
        "colab_type": "code",
        "colab": {}
      },
      "source": [
        "import requests\n",
        "import bs4\n",
        "from bs4 import BeautifulSoup\n",
        "import time"
      ],
      "execution_count": 0,
      "outputs": []
    },
    {
      "cell_type": "code",
      "metadata": {
        "id": "It8yfjpffUMV",
        "colab_type": "code",
        "colab": {}
      },
      "source": [
        "URL = \"https://www.indeed.com/jobs?q=data+scientist&l=Texas\"\n",
        "#conducting a request of the stated URL above:\n",
        "page = requests.get(URL)\n",
        "#specifying a desired format of “page” using the html parser - this allows python to read the various components of the page, rather than treating it as one long string.\n",
        "soup = BeautifulSoup(page.text, \"html.parser\")\n",
        "#printing soup in a more structured tree format that makes for easier reading\n",
        "print(soup.prettify())"
      ],
      "execution_count": 0,
      "outputs": []
    },
    {
      "cell_type": "code",
      "metadata": {
        "id": "jFfFCJJsffXD",
        "colab_type": "code",
        "colab": {
          "base_uri": "https://localhost:8080/",
          "height": 341
        },
        "outputId": "9aff5456-b3cb-4a07-b1bf-97499a4f1dba"
      },
      "source": [
        "def extract_job_title_from_result(soup): \n",
        "  jobs = []\n",
        "  for div in soup.find_all(name=\"div\", attrs={\"class\":\"row\"}):\n",
        "    for a in div.find_all(name=\"a\", attrs={\"data-tn-element\":\"jobTitle\"}):\n",
        "      jobs.append(a[\"title\"])\n",
        "  return(jobs)\n",
        "\n",
        "extract_job_title_from_result(soup)"
      ],
      "execution_count": 32,
      "outputs": [
        {
          "output_type": "execute_result",
          "data": {
            "text/plain": [
              "['Data Scientist',\n",
              " 'Data Scientist',\n",
              " 'Data Scientist',\n",
              " 'Principal Data Scientist',\n",
              " 'Medicare Supplement Overpayment Data Mining Programmer',\n",
              " 'Data Scientist',\n",
              " 'Jr. Data Scientist',\n",
              " 'Data Scientist',\n",
              " 'Data Scientist',\n",
              " 'Data Scientist I',\n",
              " 'Associate Data Scientist',\n",
              " 'Junior Data Scientist',\n",
              " 'Data Scientist',\n",
              " '2019 FALL Internship - SPORTS SCIENCE & DATA ANALYTICS',\n",
              " 'Jr Data Scientist',\n",
              " 'Transformation Data Scientist',\n",
              " 'Data Scientist I',\n",
              " 'Data Scientist']"
            ]
          },
          "metadata": {
            "tags": []
          },
          "execution_count": 32
        }
      ]
    },
    {
      "cell_type": "code",
      "metadata": {
        "id": "1DVM-ZG8fkOs",
        "colab_type": "code",
        "colab": {
          "base_uri": "https://localhost:8080/",
          "height": 341
        },
        "outputId": "8f2969b4-4724-4a68-97ab-6158c18a4b96"
      },
      "source": [
        "def extract_company_from_result(soup): \n",
        "  companies = []\n",
        "  for div in soup.find_all(name=\"div\", attrs={\"class\":\"row\"}):\n",
        "    company = div.find_all(name=\"span\", attrs={\"class\":\"company\"})\n",
        "    if len(company) > 0:\n",
        "      for b in company:\n",
        "        companies.append(b.text.strip())\n",
        "    else:\n",
        "      sec_try = div.find_all(name=\"span\", attrs={\"class\":\"result-link-source\"})\n",
        "      for span in sec_try:\n",
        "        companies.append(span.text.strip())\n",
        "  return(companies)\n",
        " \n",
        "extract_company_from_result(soup)"
      ],
      "execution_count": 33,
      "outputs": [
        {
          "output_type": "execute_result",
          "data": {
            "text/plain": [
              "['Indeed Prime',\n",
              " 'Verizon',\n",
              " 'eBay Inc.',\n",
              " 'Cognira, LLC',\n",
              " 'Asset Protection Unit, Inc.',\n",
              " 'Burnett Specialists',\n",
              " 'Software Concept',\n",
              " 'Apple',\n",
              " 'Imperial Oil',\n",
              " 'Noble Energy, Inc.',\n",
              " 'Sysco',\n",
              " 'Conestoga Energy',\n",
              " 'Smart Apartment Data',\n",
              " 'FC DALLAS, Major League Soccer & Toyota Stadium',\n",
              " 'HMS',\n",
              " 'DELL',\n",
              " 'Christus Health',\n",
              " 'NT Concepts']"
            ]
          },
          "metadata": {
            "tags": []
          },
          "execution_count": 33
        }
      ]
    },
    {
      "cell_type": "code",
      "metadata": {
        "id": "4a86p2y6fmUl",
        "colab_type": "code",
        "colab": {
          "base_uri": "https://localhost:8080/",
          "height": 197
        },
        "outputId": "0b9f340d-2b6f-4469-b071-1d4b62564cb5"
      },
      "source": [
        "def extract_location_from_result(soup): \n",
        "  locations = []\n",
        "  spans = soup.findAll(\"span\", attrs={\"class\": \"location\"})\n",
        "  for span in spans:\n",
        "    locations.append(span.text)\n",
        "  return(locations)\n",
        "\n",
        "extract_location_from_result(soup)"
      ],
      "execution_count": 34,
      "outputs": [
        {
          "output_type": "execute_result",
          "data": {
            "text/plain": [
              "['Carrollton, TX',\n",
              " 'Austin, TX 78758 (North Austin area)',\n",
              " 'Houston, TX 77060 (Far North area)',\n",
              " 'Houston, TX 77067',\n",
              " 'Houston, TX 77077 (West Houston area)',\n",
              " 'Southlake, TX 76092',\n",
              " 'Austin, TX',\n",
              " 'Frisco, TX',\n",
              " 'Irving, TX',\n",
              " 'Texas']"
            ]
          },
          "metadata": {
            "tags": []
          },
          "execution_count": 34
        }
      ]
    },
    {
      "cell_type": "code",
      "metadata": {
        "id": "B0nRbKe2fnfI",
        "colab_type": "code",
        "colab": {
          "base_uri": "https://localhost:8080/",
          "height": 35
        },
        "outputId": "ec106eae-1090-4fd8-fc03-dfa1dd5bef0a"
      },
      "source": [
        "def extract_salary_from_result(soup): \n",
        "  salaries = []\n",
        "  for div in soup.find_all(name=\"div\", attrs={\"class\":\"salarySnippet\"}):\n",
        "    #print(div.find(name=\"span\", attrs = {\"class\":\"salary\"}).text)\n",
        "    #print(\"\\n\\n\")\n",
        "    try:\n",
        "      salaries.append(div.find(name=\"span\", attrs = {\"class\":\"salary\"}).text)\n",
        "    except:\n",
        "      salaries.append(\"Nothing_found\")\n",
        "  return(salaries)\n",
        "\n",
        "extract_salary_from_result(soup)"
      ],
      "execution_count": 35,
      "outputs": [
        {
          "output_type": "execute_result",
          "data": {
            "text/plain": [
              "[]"
            ]
          },
          "metadata": {
            "tags": []
          },
          "execution_count": 35
        }
      ]
    },
    {
      "cell_type": "code",
      "metadata": {
        "id": "H9GNVZ5KfpY-",
        "colab_type": "code",
        "colab": {
          "base_uri": "https://localhost:8080/",
          "height": 361
        },
        "outputId": "bf92b1d2-5f13-41bb-8fa1-bfbedc23033f"
      },
      "source": [
        "def extract_summary_from_result(soup): \n",
        "  summaries = []\n",
        "  try:\n",
        "    spans = soup.findAll(\"div\", attrs={\"class\": \"summary\"})\n",
        "  except:\n",
        "    salaries.append(\"Nothing_found\")\n",
        "  for span in spans:\n",
        "    summaries.append(span.text)\n",
        "  return(summaries)\n",
        "\n",
        "extract_summary_from_result(soup)"
      ],
      "execution_count": 36,
      "outputs": [
        {
          "output_type": "execute_result",
          "data": {
            "text/plain": [
              "['\\n            Get matched – Companies apply to you with opportunities that reflect your role, location and salary specifications. How Indeed Prime Works....',\n",
              " '\\n            Experience with SQL and either Python, R or SAS. The primary responsibilities of this position are centered on the examination, understanding and presentation...',\n",
              " '\\n            Decision Science contains both data scientists and software engineers responsible for creating and implementing state of the art machine learning algorithms for...',\n",
              " '\\n            Understands and leverages data mining, machine learning, data modeling, and statistical modeling techniques. Keep up to date with technical as well as industry...',\n",
              " '\\n            Machine Learning. Candidates selected will be subject to a pre-employment background investigation (drug test, credit check, reference verification) and skills...',\n",
              " '\\n            Apply data analysis algorithms (data mining, statistics, machine learning, natural language processing, sentiment analysis, text mining, etc.)....',\n",
              " '\\n            Translate data analytics into business speak. We are a Texas based IT Company and we are a fast growing and very successful company focused on delivering high...',\n",
              " \"\\n            Ensure operational and business metric health by monitoring production decision points. Apple's dedication to customer privacy, the adversarial nature of fraud,...\",\n",
              " '\\n            Data Scientists will have the freedom to experiment, explore ideas and the opportunity to become leaders, develop new insights to capture key mechanisms,...',\n",
              " '\\n            Continually stays up to date on the latest trends in data science, advanced analytics, and big data trends....',\n",
              " '\\n            The primary focus is to conduct predictive analytics via statistical, machine learning, and mathematical models on Sysco’s corporate data to get actionable...',\n",
              " '\\n            Programming proficiency (scripting languages such as R, Matlab, Python a plus). Forecasting of future growth rates, trends, supply/demand of clean energy....',\n",
              " \"\\n            Data Scientist (Contract). Looking to work at fun and dynamic software company and are very tech-savvy? As a winner of the 'Houston Best & Brightest Companies...\",\n",
              " '\\n            FC Dallas of Major League Soccer and Toyota Stadium are looking for a student intern to work with the Athletic Training team in sports science and analytics....',\n",
              " '\\n            The successful candidate will have 1-2 years of experience in working with big data, have an interest in data wrangling and analytical modeling, and a desire to...',\n",
              " '\\n            What’s more, we are in collaboration with leading academics, industry experts and highly skilled engineers to equip our customers to generate sophisticated new...',\n",
              " '\\n            Individual must have comprehensive knowledge of Statistical Models, Data Mining, Machine Learning and proven experience in building custom algorithms to deliver...',\n",
              " '\\n            Our team of engineers, subject matter experts, and data scientists provide experienced, high-quality Information Technology (IT) and cybersecurity engineering...']"
            ]
          },
          "metadata": {
            "tags": []
          },
          "execution_count": 36
        }
      ]
    },
    {
      "cell_type": "code",
      "metadata": {
        "id": "mJJcbKkSz62p",
        "colab_type": "code",
        "colab": {}
      },
      "source": [
        "def extract(soup):\n",
        "  \n",
        "  jobs = []\n",
        "  for div in soup.find_all(name=\"div\", attrs={\"class\":\"row\"}):\n",
        "    for a in div.find_all(name=\"a\", attrs={\"data-tn-element\":\"jobTitle\"}):\n",
        "      jobs.append(a[\"title\"])\n",
        "      \n",
        "  companies = []\n",
        "  for div in soup.find_all(name=\"div\", attrs={\"class\":\"row\"}):\n",
        "    company = div.find_all(name=\"span\", attrs={\"class\":\"company\"})\n",
        "    if len(company) > 0:\n",
        "      for b in company:\n",
        "        companies.append(b.text.strip())\n",
        "    else:\n",
        "      sec_try = div.find_all(name=\"span\", attrs={\"class\":\"result-link-source\"})\n",
        "      for span in sec_try:\n",
        "        companies.append(span.text.strip())\n",
        "        \n",
        "  locations = []\n",
        "  spans = soup.findAll(\"div\", attrs={\"class\": \"recJobLoc\"})\n",
        "  for span in spans:\n",
        "    locations.append(span.text)\n",
        "  \n",
        "  salaries = []\n",
        "  for _ in range(len(jobs)):\n",
        "    divs = soup.find_all(name=\"div\", attrs={\"class\":\"salarySnippet\"})\n",
        "    try:\n",
        "      salaries.append(divs[_].find(name=\"span\", attrs = {\"class\":\"salary\"}).text)\n",
        "    except:\n",
        "      salaries.append(\"Nothing_found\")\n",
        "  \n",
        "  summaries = []\n",
        "  try:\n",
        "    spans = soup.findAll(\"div\", attrs={\"class\": \"summary\"})\n",
        "  except:\n",
        "    salaries.append(\"Nothing_found\")\n",
        "  for span in spans:\n",
        "    summaries.append(span.text)\n",
        "    \n",
        "  return {'job_title':jobs,\n",
        "          'company':companies,\n",
        "          'location':locations,\n",
        "          'salary':salaries,\n",
        "          'summary':summaries}"
      ],
      "execution_count": 0,
      "outputs": []
    },
    {
      "cell_type": "code",
      "metadata": {
        "id": "OCvUrKO9ft7v",
        "colab_type": "code",
        "colab": {}
      },
      "source": [
        "max_results_per_city = 200\n",
        "city_set = [\"Dallas\", \"Fort+Worth\", \"Irving\", \"Carolton\", \"Plano\", \"Arlington\", \"Grapevine\", \"McKinney\", \"Allen\", 'Frisco']"
      ],
      "execution_count": 0,
      "outputs": []
    },
    {
      "cell_type": "code",
      "metadata": {
        "id": "SbM_ylSfldW0",
        "colab_type": "code",
        "colab": {
          "base_uri": "https://localhost:8080/",
          "height": 35
        },
        "outputId": "1461b017-6683-4cb7-e38d-ff52cdd5512e"
      },
      "source": [
        "jobs = []\n",
        "companies = []\n",
        "locations = []\n",
        "summaries = []\n",
        "\n",
        "for city in city_set:\n",
        "  for start in range(0, max_results_per_city, 10):\n",
        "    page = requests.get(\"https://www.indeed.com/jobs?q=data+scientist&l=\" + str(city) + \"&start=\" + str(start))\n",
        "    time.sleep(1)\n",
        "    soup = BeautifulSoup(page.text, \"lxml\")    \n",
        "      \n",
        "    for div in soup.find_all(name=\"div\", attrs={\"class\":\"row\"}):\n",
        "      for a in div.find_all(name=\"a\", attrs={\"data-tn-element\":\"jobTitle\"}):\n",
        "        jobs.append(a[\"title\"])      \n",
        "\n",
        "    for div in soup.find_all(name=\"div\", attrs={\"class\":\"row\"}):\n",
        "      company = div.find_all(name=\"span\", attrs={\"class\":\"company\"})\n",
        "      if len(company) > 0:\n",
        "        for b in company:\n",
        "          companies.append(b.text.strip())\n",
        "      else:\n",
        "        sec_try = div.find_all(name=\"span\", attrs={\"class\":\"result-link-source\"})\n",
        "        for span in sec_try:\n",
        "          companies.append(span.text.strip())        \n",
        "\n",
        "    divs = soup.findAll(\"div\", attrs={\"class\": \"recJobLoc\"})\n",
        "    for div in divs:\n",
        "      #print(str(div))\n",
        "      if len(str(div)) > 0:\n",
        "        locations.append(str(div))\n",
        "      else:\n",
        "        locations.append('none')\n",
        "    \n",
        "    spans = soup.findAll(\"div\", attrs={\"class\": \"summary\"})\n",
        "    for span in spans:\n",
        "      if len(span.text) > 0:\n",
        "        summaries.append(span.text)\n",
        "      else:\n",
        "        summaries.append('none')\n",
        "\n",
        "print(len(jobs),\n",
        "  len(companies),\n",
        "  len(locations),\n",
        "  len(summaries))"
      ],
      "execution_count": 39,
      "outputs": [
        {
          "output_type": "stream",
          "text": [
            "2916 2916 2916 2916\n"
          ],
          "name": "stdout"
        }
      ]
    },
    {
      "cell_type": "code",
      "metadata": {
        "id": "53AmlIfz1Nkk",
        "colab_type": "code",
        "colab": {}
      },
      "source": [
        " jobs = pd.DataFrame({'job_title':jobs,\n",
        "          'company':companies,\n",
        "          'location':locations,\n",
        "          'summary':summaries})  \n",
        "\n"
      ],
      "execution_count": 0,
      "outputs": []
    },
    {
      "cell_type": "code",
      "metadata": {
        "id": "3TocHm6_KJ7-",
        "colab_type": "code",
        "colab": {
          "base_uri": "https://localhost:8080/",
          "height": 204
        },
        "outputId": "e3f5b06e-ce3d-492b-f671-e2ab5e0cf7ce"
      },
      "source": [
        "jobs.head()"
      ],
      "execution_count": 41,
      "outputs": [
        {
          "output_type": "execute_result",
          "data": {
            "text/html": [
              "<div>\n",
              "<style scoped>\n",
              "    .dataframe tbody tr th:only-of-type {\n",
              "        vertical-align: middle;\n",
              "    }\n",
              "\n",
              "    .dataframe tbody tr th {\n",
              "        vertical-align: top;\n",
              "    }\n",
              "\n",
              "    .dataframe thead th {\n",
              "        text-align: right;\n",
              "    }\n",
              "</style>\n",
              "<table border=\"1\" class=\"dataframe\">\n",
              "  <thead>\n",
              "    <tr style=\"text-align: right;\">\n",
              "      <th></th>\n",
              "      <th>job_title</th>\n",
              "      <th>company</th>\n",
              "      <th>location</th>\n",
              "      <th>summary</th>\n",
              "    </tr>\n",
              "  </thead>\n",
              "  <tbody>\n",
              "    <tr>\n",
              "      <th>0</th>\n",
              "      <td>Data Scientist</td>\n",
              "      <td>Verizon</td>\n",
              "      <td>&lt;div class=\"recJobLoc\" data-rc-loc=\"Irving, TX...</td>\n",
              "      <td>\\n            As a Data Scientist, you will be...</td>\n",
              "    </tr>\n",
              "    <tr>\n",
              "      <th>1</th>\n",
              "      <td>Data Scientist/Statistician (Statistical Model...</td>\n",
              "      <td>S5 Stratos</td>\n",
              "      <td>&lt;div class=\"recJobLoc\" data-rc-loc=\"Dallas, TX...</td>\n",
              "      <td>\\n            S5's R&amp;D team is responsible for...</td>\n",
              "    </tr>\n",
              "    <tr>\n",
              "      <th>2</th>\n",
              "      <td>Senior Data Scientist</td>\n",
              "      <td>Verizon</td>\n",
              "      <td>&lt;div class=\"recJobLoc\" data-rc-loc=\"Irving, TX...</td>\n",
              "      <td>\\n            Experience in managing projects ...</td>\n",
              "    </tr>\n",
              "    <tr>\n",
              "      <th>3</th>\n",
              "      <td>Medicare Insurance Agent – Industry-best comp ...</td>\n",
              "      <td>ASSURANCE Independent Agents</td>\n",
              "      <td>&lt;div class=\"recJobLoc\" data-rc-loc=\"Dallas, TX...</td>\n",
              "      <td>\\n            Our team of engineers, data scie...</td>\n",
              "    </tr>\n",
              "    <tr>\n",
              "      <th>4</th>\n",
              "      <td>Senior Data Scientist</td>\n",
              "      <td>ITL USA</td>\n",
              "      <td>&lt;div class=\"recJobLoc\" data-rc-loc=\"Richardson...</td>\n",
              "      <td>\\n            In the role of Senior Data Scien...</td>\n",
              "    </tr>\n",
              "  </tbody>\n",
              "</table>\n",
              "</div>"
            ],
            "text/plain": [
              "                                           job_title  ...                                            summary\n",
              "0                                     Data Scientist  ...  \\n            As a Data Scientist, you will be...\n",
              "1  Data Scientist/Statistician (Statistical Model...  ...  \\n            S5's R&D team is responsible for...\n",
              "2                              Senior Data Scientist  ...  \\n            Experience in managing projects ...\n",
              "3  Medicare Insurance Agent – Industry-best comp ...  ...  \\n            Our team of engineers, data scie...\n",
              "4                              Senior Data Scientist  ...  \\n            In the role of Senior Data Scien...\n",
              "\n",
              "[5 rows x 4 columns]"
            ]
          },
          "metadata": {
            "tags": []
          },
          "execution_count": 41
        }
      ]
    },
    {
      "cell_type": "code",
      "metadata": {
        "id": "7rS6a56TDHnc",
        "colab_type": "code",
        "colab": {}
      },
      "source": [
        "jobs['summary'] = jobs['summary'].str.strip()"
      ],
      "execution_count": 0,
      "outputs": []
    },
    {
      "cell_type": "code",
      "metadata": {
        "id": "9YTBLrYetq5t",
        "colab_type": "code",
        "colab": {
          "base_uri": "https://localhost:8080/",
          "height": 125
        },
        "outputId": "c3a36bc8-58ce-4dd4-9ac9-332e0f214095"
      },
      "source": [
        "tokens = []\n",
        "\n",
        "\"\"\" Make them tokens \"\"\"\n",
        "for doc in tokenizer.pipe(jobs['summary'], batch_size=500):\n",
        "    doc_tokens = [token.text for token in doc]\n",
        "    tokens.append(doc_tokens)\n",
        "    \n",
        "jobs['tokens'] = tokens\n",
        "\n",
        "jobs['tokens'].head()"
      ],
      "execution_count": 43,
      "outputs": [
        {
          "output_type": "execute_result",
          "data": {
            "text/plain": [
              "0    [As, a, Data, Scientist,, you, will, be, a, ke...\n",
              "1    [S5's, R&D, team, is, responsible, for, creati...\n",
              "2    [Experience, in, managing, projects, working, ...\n",
              "3    [Our, team, of, engineers,, data, scientists,,...\n",
              "4    [In, the, role, of, Senior, Data, Scientist, w...\n",
              "Name: tokens, dtype: object"
            ]
          },
          "metadata": {
            "tags": []
          },
          "execution_count": 43
        }
      ]
    },
    {
      "cell_type": "code",
      "metadata": {
        "id": "U1hrOOEC_5vA",
        "colab_type": "code",
        "colab": {
          "base_uri": "https://localhost:8080/",
          "height": 269
        },
        "outputId": "5377a77c-686e-4d2a-93ec-6d9d45aae115"
      },
      "source": [
        "wc = count(jobs['tokens'])\n",
        "\n",
        "wc_top20 = wc[wc['rank'] <= 20]\n",
        "\n",
        "squarify.plot(sizes=wc_top20['pct_total'], label=wc_top20['word'], alpha=.8 )\n",
        "plt.axis('off')\n",
        "plt.show()"
      ],
      "execution_count": 44,
      "outputs": [
        {
          "output_type": "display_data",
          "data": {
            "image/png": "[encoded data removed]",
            "text/plain": [
              "<Figure size 432x288 with 1 Axes>"
            ]
          },
          "metadata": {
            "tags": []
          }
        }
      ]
    },
    {
      "cell_type": "code",
      "metadata": {
        "id": "didA7jk2AMR_",
        "colab_type": "code",
        "colab": {}
      },
      "source": [
        "tokens = []\n",
        "\n",
        "\"\"\" Update those tokens \"\"\"\n",
        "for doc in tokenizer.pipe(jobs['summary'], batch_size=500):\n",
        "    \n",
        "    doc_tokens = []\n",
        "\n",
        "    for token in doc:\n",
        "        if (token.is_stop == False) and (token.is_punct == False):\n",
        "            doc_tokens.append(token.text.lower())\n",
        "            \n",
        "    tokens.append(doc_tokens)\n",
        "            \n",
        "jobs['tokens'] = tokens"
      ],
      "execution_count": 0,
      "outputs": []
    },
    {
      "cell_type": "code",
      "metadata": {
        "id": "iWS-v0-0ATwH",
        "colab_type": "code",
        "colab": {
          "base_uri": "https://localhost:8080/",
          "height": 269
        },
        "outputId": "56c228a2-b7b9-458d-a565-1b5fa98d7684"
      },
      "source": [
        "wc = count(jobs['tokens'])\n",
        "\n",
        "wc_top20 = wc[wc['rank'] <= 20]\n",
        "\n",
        "squarify.plot(sizes=wc_top20['pct_total'], label=wc_top20['word'], alpha=.8 )\n",
        "plt.axis('off')\n",
        "plt.show()"
      ],
      "execution_count": 46,
      "outputs": [
        {
          "output_type": "display_data",
          "data": {
            "image/png": "[encoded data removed]",
            "text/plain": [
              "<Figure size 432x288 with 1 Axes>"
            ]
          },
          "metadata": {
            "tags": []
          }
        }
      ]
    },
    {
      "cell_type": "code",
      "metadata": {
        "id": "_RL_nn1TAsi4",
        "colab_type": "code",
        "colab": {}
      },
      "source": [
        "nlp.vocab[\"science\"].is_stop = True\n",
        "nlp.vocab[\"scientist\"].is_stop = True\n",
        "nlp.vocab[\"scientists\"].is_stop = True\n",
        "nlp.vocab[\"team\"].is_stop = True\n",
        "nlp.vocab[\"data\"].is_stop = True\n",
        "nlp.vocab[\"scientists,\"].is_stop = True\n",
        "nlp.vocab[\"experience\"].is_stop = True\n",
        "nlp.vocab[\"\\n\"].is_stop = True\n",
        "\n",
        "STOP_WORDS = nlp.Defaults.stop_words"
      ],
      "execution_count": 0,
      "outputs": []
    },
    {
      "cell_type": "code",
      "metadata": {
        "id": "t5s5-8_pBR-O",
        "colab_type": "code",
        "colab": {}
      },
      "source": [
        "STOP_WORDS"
      ],
      "execution_count": 0,
      "outputs": []
    },
    {
      "cell_type": "code",
      "metadata": {
        "id": "aAQ4DvoBBn0H",
        "colab_type": "code",
        "colab": {}
      },
      "source": [
        "STOP_WORDS = nlp.Defaults.stop_words.union(['\\n', 'science', 'scientist', 'scientists', 'scientists,', \"data\", 'team', 'experience', 'advanced'])"
      ],
      "execution_count": 0,
      "outputs": []
    },
    {
      "cell_type": "code",
      "metadata": {
        "id": "YtyMKJmrCD7c",
        "colab_type": "code",
        "colab": {}
      },
      "source": [
        "OTHER_WORDS = set(['\\n', 'science', 'scientist', 'scientists', 'scientists,', \"data\", 'team', 'experience', 'advanced', '\\n\\n'])"
      ],
      "execution_count": 0,
      "outputs": []
    },
    {
      "cell_type": "code",
      "metadata": {
        "id": "o5iv3ue2AiM0",
        "colab_type": "code",
        "colab": {}
      },
      "source": [
        "tokens = []\n",
        "\n",
        "for doc in tokenizer.pipe(jobs['summary'], batch_size=500):\n",
        "    \n",
        "    doc_tokens = []\n",
        "    \n",
        "    for token in doc: \n",
        "        if token.text not in STOP_WORDS and token.text not in OTHER_WORDS:\n",
        "            doc_tokens.append(token.text.lower())\n",
        "   \n",
        "    tokens.append(doc_tokens)\n",
        "    \n",
        "jobs['tokens'] = tokens"
      ],
      "execution_count": 0,
      "outputs": []
    },
    {
      "cell_type": "code",
      "metadata": {
        "id": "_C0WkTszBFgV",
        "colab_type": "code",
        "colab": {
          "base_uri": "https://localhost:8080/",
          "height": 669
        },
        "outputId": "bac0518b-650e-49a4-af92-c5ca8896a541"
      },
      "source": [
        "wc = count(jobs['tokens'])\n",
        "\n",
        "wc_top20 = wc[wc['rank'] <= 20]\n",
        "\n",
        "wc_top20"
      ],
      "execution_count": 52,
      "outputs": [
        {
          "output_type": "execute_result",
          "data": {
            "text/html": [
              "<div>\n",
              "<style scoped>\n",
              "    .dataframe tbody tr th:only-of-type {\n",
              "        vertical-align: middle;\n",
              "    }\n",
              "\n",
              "    .dataframe tbody tr th {\n",
              "        vertical-align: top;\n",
              "    }\n",
              "\n",
              "    .dataframe thead th {\n",
              "        text-align: right;\n",
              "    }\n",
              "</style>\n",
              "<table border=\"1\" class=\"dataframe\">\n",
              "  <thead>\n",
              "    <tr style=\"text-align: right;\">\n",
              "      <th></th>\n",
              "      <th>word</th>\n",
              "      <th>appears_in</th>\n",
              "      <th>count</th>\n",
              "      <th>rank</th>\n",
              "      <th>pct_total</th>\n",
              "      <th>cul_pct_total</th>\n",
              "      <th>appears_in_pct</th>\n",
              "    </tr>\n",
              "  </thead>\n",
              "  <tbody>\n",
              "    <tr>\n",
              "      <th>8</th>\n",
              "      <td>data</td>\n",
              "      <td>777</td>\n",
              "      <td>1019</td>\n",
              "      <td>1.0</td>\n",
              "      <td>0.025029</td>\n",
              "      <td>0.025029</td>\n",
              "      <td>0.266461</td>\n",
              "    </tr>\n",
              "    <tr>\n",
              "      <th>20</th>\n",
              "      <td>machine</td>\n",
              "      <td>847</td>\n",
              "      <td>909</td>\n",
              "      <td>2.0</td>\n",
              "      <td>0.022328</td>\n",
              "      <td>0.047357</td>\n",
              "      <td>0.290466</td>\n",
              "    </tr>\n",
              "    <tr>\n",
              "      <th>27</th>\n",
              "      <td>learning</td>\n",
              "      <td>565</td>\n",
              "      <td>619</td>\n",
              "      <td>3.0</td>\n",
              "      <td>0.015204</td>\n",
              "      <td>0.062561</td>\n",
              "      <td>0.193759</td>\n",
              "    </tr>\n",
              "    <tr>\n",
              "      <th>37</th>\n",
              "      <td>experience</td>\n",
              "      <td>389</td>\n",
              "      <td>442</td>\n",
              "      <td>4.0</td>\n",
              "      <td>0.010857</td>\n",
              "      <td>0.073418</td>\n",
              "      <td>0.133402</td>\n",
              "    </tr>\n",
              "    <tr>\n",
              "      <th>55</th>\n",
              "      <td>scientist</td>\n",
              "      <td>303</td>\n",
              "      <td>318</td>\n",
              "      <td>5.0</td>\n",
              "      <td>0.007811</td>\n",
              "      <td>0.081229</td>\n",
              "      <td>0.103909</td>\n",
              "    </tr>\n",
              "    <tr>\n",
              "      <th>192</th>\n",
              "      <td>statistical</td>\n",
              "      <td>316</td>\n",
              "      <td>318</td>\n",
              "      <td>6.0</td>\n",
              "      <td>0.007811</td>\n",
              "      <td>0.089040</td>\n",
              "      <td>0.108368</td>\n",
              "    </tr>\n",
              "    <tr>\n",
              "      <th>110</th>\n",
              "      <td>analytics</td>\n",
              "      <td>277</td>\n",
              "      <td>311</td>\n",
              "      <td>7.0</td>\n",
              "      <td>0.007639</td>\n",
              "      <td>0.096679</td>\n",
              "      <td>0.094993</td>\n",
              "    </tr>\n",
              "    <tr>\n",
              "      <th>16</th>\n",
              "      <td>deep</td>\n",
              "      <td>280</td>\n",
              "      <td>285</td>\n",
              "      <td>8.0</td>\n",
              "      <td>0.007000</td>\n",
              "      <td>0.103680</td>\n",
              "      <td>0.096022</td>\n",
              "    </tr>\n",
              "    <tr>\n",
              "      <th>35</th>\n",
              "      <td>analytics,</td>\n",
              "      <td>200</td>\n",
              "      <td>280</td>\n",
              "      <td>9.0</td>\n",
              "      <td>0.006878</td>\n",
              "      <td>0.110557</td>\n",
              "      <td>0.068587</td>\n",
              "    </tr>\n",
              "    <tr>\n",
              "      <th>71</th>\n",
              "      <td>knowledge</td>\n",
              "      <td>262</td>\n",
              "      <td>278</td>\n",
              "      <td>10.0</td>\n",
              "      <td>0.006828</td>\n",
              "      <td>0.117386</td>\n",
              "      <td>0.089849</td>\n",
              "    </tr>\n",
              "    <tr>\n",
              "      <th>39</th>\n",
              "      <td>python,</td>\n",
              "      <td>273</td>\n",
              "      <td>273</td>\n",
              "      <td>11.0</td>\n",
              "      <td>0.006706</td>\n",
              "      <td>0.124091</td>\n",
              "      <td>0.093621</td>\n",
              "    </tr>\n",
              "    <tr>\n",
              "      <th>47</th>\n",
              "      <td>engineers,</td>\n",
              "      <td>259</td>\n",
              "      <td>266</td>\n",
              "      <td>12.0</td>\n",
              "      <td>0.006534</td>\n",
              "      <td>0.130625</td>\n",
              "      <td>0.088820</td>\n",
              "    </tr>\n",
              "    <tr>\n",
              "      <th>172</th>\n",
              "      <td>&amp;</td>\n",
              "      <td>225</td>\n",
              "      <td>266</td>\n",
              "      <td>13.0</td>\n",
              "      <td>0.006534</td>\n",
              "      <td>0.137159</td>\n",
              "      <td>0.077160</td>\n",
              "    </tr>\n",
              "    <tr>\n",
              "      <th>97</th>\n",
              "      <td>years</td>\n",
              "      <td>242</td>\n",
              "      <td>250</td>\n",
              "      <td>14.0</td>\n",
              "      <td>0.006141</td>\n",
              "      <td>0.143299</td>\n",
              "      <td>0.082990</td>\n",
              "    </tr>\n",
              "    <tr>\n",
              "      <th>43</th>\n",
              "      <td>building</td>\n",
              "      <td>217</td>\n",
              "      <td>217</td>\n",
              "      <td>15.0</td>\n",
              "      <td>0.005330</td>\n",
              "      <td>0.148629</td>\n",
              "      <td>0.074417</td>\n",
              "    </tr>\n",
              "    <tr>\n",
              "      <th>180</th>\n",
              "      <td>r</td>\n",
              "      <td>188</td>\n",
              "      <td>216</td>\n",
              "      <td>16.0</td>\n",
              "      <td>0.005306</td>\n",
              "      <td>0.153935</td>\n",
              "      <td>0.064472</td>\n",
              "    </tr>\n",
              "    <tr>\n",
              "      <th>113</th>\n",
              "      <td>business</td>\n",
              "      <td>205</td>\n",
              "      <td>209</td>\n",
              "      <td>17.0</td>\n",
              "      <td>0.005134</td>\n",
              "      <td>0.159069</td>\n",
              "      <td>0.070302</td>\n",
              "    </tr>\n",
              "    <tr>\n",
              "      <th>118</th>\n",
              "      <td>work</td>\n",
              "      <td>197</td>\n",
              "      <td>200</td>\n",
              "      <td>18.0</td>\n",
              "      <td>0.004913</td>\n",
              "      <td>0.163981</td>\n",
              "      <td>0.067558</td>\n",
              "    </tr>\n",
              "    <tr>\n",
              "      <th>185</th>\n",
              "      <td>mining,</td>\n",
              "      <td>191</td>\n",
              "      <td>191</td>\n",
              "      <td>19.0</td>\n",
              "      <td>0.004691</td>\n",
              "      <td>0.168673</td>\n",
              "      <td>0.065501</td>\n",
              "    </tr>\n",
              "    <tr>\n",
              "      <th>78</th>\n",
              "      <td>the</td>\n",
              "      <td>189</td>\n",
              "      <td>189</td>\n",
              "      <td>20.0</td>\n",
              "      <td>0.004642</td>\n",
              "      <td>0.173315</td>\n",
              "      <td>0.064815</td>\n",
              "    </tr>\n",
              "  </tbody>\n",
              "</table>\n",
              "</div>"
            ],
            "text/plain": [
              "            word  appears_in  count  ...  pct_total  cul_pct_total  appears_in_pct\n",
              "8           data         777   1019  ...   0.025029       0.025029        0.266461\n",
              "20       machine         847    909  ...   0.022328       0.047357        0.290466\n",
              "27      learning         565    619  ...   0.015204       0.062561        0.193759\n",
              "37    experience         389    442  ...   0.010857       0.073418        0.133402\n",
              "55     scientist         303    318  ...   0.007811       0.081229        0.103909\n",
              "192  statistical         316    318  ...   0.007811       0.089040        0.108368\n",
              "110    analytics         277    311  ...   0.007639       0.096679        0.094993\n",
              "16          deep         280    285  ...   0.007000       0.103680        0.096022\n",
              "35    analytics,         200    280  ...   0.006878       0.110557        0.068587\n",
              "71     knowledge         262    278  ...   0.006828       0.117386        0.089849\n",
              "39       python,         273    273  ...   0.006706       0.124091        0.093621\n",
              "47    engineers,         259    266  ...   0.006534       0.130625        0.088820\n",
              "172            &         225    266  ...   0.006534       0.137159        0.077160\n",
              "97         years         242    250  ...   0.006141       0.143299        0.082990\n",
              "43      building         217    217  ...   0.005330       0.148629        0.074417\n",
              "180            r         188    216  ...   0.005306       0.153935        0.064472\n",
              "113     business         205    209  ...   0.005134       0.159069        0.070302\n",
              "118         work         197    200  ...   0.004913       0.163981        0.067558\n",
              "185      mining,         191    191  ...   0.004691       0.168673        0.065501\n",
              "78           the         189    189  ...   0.004642       0.173315        0.064815\n",
              "\n",
              "[20 rows x 7 columns]"
            ]
          },
          "metadata": {
            "tags": []
          },
          "execution_count": 52
        }
      ]
    },
    {
      "cell_type": "code",
      "metadata": {
        "id": "MUFQnEvqBg3z",
        "colab_type": "code",
        "colab": {
          "base_uri": "https://localhost:8080/",
          "height": 269
        },
        "outputId": "46026e36-2cec-46b7-d286-8945e89da58e"
      },
      "source": [
        "squarify.plot(sizes=wc_top20['pct_total'], label=wc_top20['word'], alpha=.8 )\n",
        "plt.axis('off')\n",
        "plt.show()"
      ],
      "execution_count": 53,
      "outputs": [
        {
          "output_type": "display_data",
          "data": {
            "image/png": "[encoded data removed]",
            "text/plain": [
              "<Figure size 432x288 with 1 Axes>"
            ]
          },
          "metadata": {
            "tags": []
          }
        }
      ]
    },
    {
      "cell_type": "code",
      "metadata": {
        "id": "uVbcBApsCyMh",
        "colab_type": "code",
        "colab": {}
      },
      "source": [
        "jobs['summary'].str.strip()"
      ],
      "execution_count": 0,
      "outputs": []
    },
    {
      "cell_type": "code",
      "metadata": {
        "id": "Uf8us7nFC90H",
        "colab_type": "code",
        "colab": {
          "base_uri": "https://localhost:8080/",
          "height": 35
        },
        "outputId": "87f7e295-893c-475a-cec0-8baae9d88f3e"
      },
      "source": [
        "jobs.columns"
      ],
      "execution_count": 55,
      "outputs": [
        {
          "output_type": "execute_result",
          "data": {
            "text/plain": [
              "Index(['job_title', 'company', 'location', 'summary', 'tokens'], dtype='object')"
            ]
          },
          "metadata": {
            "tags": []
          },
          "execution_count": 55
        }
      ]
    },
    {
      "cell_type": "code",
      "metadata": {
        "id": "byrwtw9cDWh0",
        "colab_type": "code",
        "colab": {
          "base_uri": "https://localhost:8080/",
          "height": 1000
        },
        "outputId": "c6b005dd-ae5c-4ad7-f608-469e89a4dff9"
      },
      "source": [
        "jobs['company'].value_counts()"
      ],
      "execution_count": 56,
      "outputs": [
        {
          "output_type": "execute_result",
          "data": {
            "text/plain": [
              "Verizon                                   255\n",
              "ITL USA                                   173\n",
              "Christus Health                           148\n",
              "S5 Stratos                                118\n",
              "Deloitte                                   91\n",
              "NT Concepts                                85\n",
              "JP Morgan Chase                            83\n",
              "s•com                                      78\n",
              "ASSURANCE Independent Agents               76\n",
              "UT Southwestern Medical Center             74\n",
              "KPMG                                       68\n",
              "Capital One                                55\n",
              "Bank of America                            43\n",
              "Roth Technical Specialties Inc             33\n",
              "Amazon Web Services, Inc.                  32\n",
              "USAA                                       31\n",
              "Burns & McDonnell                          27\n",
              "Epsilon                                    24\n",
              "LOCKHEED MARTIN CORPORATION                23\n",
              "J.C. Penney Corporation, Inc.              22\n",
              "HMS                                        21\n",
              "Blue Owl                                   21\n",
              "MasterClass                                20\n",
              "Methodist Hospital for Surgery             20\n",
              "Tredence Inc.                              20\n",
              "Abbott Laboratories                        19\n",
              "GM Financial                               18\n",
              "DataRobot                                  17\n",
              "NTT DATA Services                          17\n",
              "Stealth Mode Startup                       16\n",
              "                                         ... \n",
              "Snowflake Computing                         1\n",
              "Eventbrite                                  1\n",
              "Sentient Energy Inc.                        1\n",
              "BayGeo                                      1\n",
              "Innovaccer Inc                              1\n",
              "Projas Technologies                         1\n",
              "Insight Enterprises, Inc.                   1\n",
              "Hewlett Packard Enterprise                  1\n",
              "Samba TV                                    1\n",
              "Getaround                                   1\n",
              "Plaid                                       1\n",
              "Six Spoke Media                             1\n",
              "Berkshire Hathaway Homestate Companies      1\n",
              "US Department of the Army                   1\n",
              "Glassdoor                                   1\n",
              "Carvana                                     1\n",
              "Upstart                                     1\n",
              "Leonardo DRS                                1\n",
              "University of San Francisco                 1\n",
              "Angle Technologies                          1\n",
              "Common Networks                             1\n",
              "Cyber Chasse                                1\n",
              "Rev.com                                     1\n",
              "Bills.com                                   1\n",
              "Medal                                       1\n",
              "CipherTrace                                 1\n",
              "Uber                                        1\n",
              "Myriad Women's Health                       1\n",
              "AllSTEM Connections                         1\n",
              "OpenText                                    1\n",
              "Name: company, Length: 347, dtype: int64"
            ]
          },
          "metadata": {
            "tags": []
          },
          "execution_count": 56
        }
      ]
    },
    {
      "cell_type": "code",
      "metadata": {
        "id": "2yTfUjpSELNp",
        "colab_type": "code",
        "colab": {}
      },
      "source": [
        "locs = jobs['location'].astype(str).str.replace('[+,\\-,(,),\\ ]', '')\n",
        "\n",
        "locs = locs.str.lstrip('<divclass=\"recJobLoc\"datarcloc=\"')\n",
        "\n",
        "locs = locs.str.rstrip(\"fed\\\"style=\\\"display:none\\\"></div>\")\n",
        "\n",
        "locs = locs.astype(str).apply(lambda x: x[:-28])\n",
        "\n",
        "locs = locs.str.rstrip('\"id')\n",
        "\n",
        "jobs['location'] = locs"
      ],
      "execution_count": 0,
      "outputs": []
    },
    {
      "cell_type": "code",
      "metadata": {
        "id": "IByPvtL9DZ1T",
        "colab_type": "code",
        "colab": {
          "base_uri": "https://localhost:8080/",
          "height": 665
        },
        "outputId": "a366f994-29c1-421f-9a94-7b85aad1f839"
      },
      "source": [
        "jobs['location'].value_counts()"
      ],
      "execution_count": 58,
      "outputs": [
        {
          "output_type": "execute_result",
          "data": {
            "text/plain": [
              "DallasTX                 816\n",
              "IrvingTX                 612\n",
              "PlanoTX                  440\n",
              "FortWorthTX              307\n",
              "SanFranciscoCA           203\n",
              "RichardsonTX             102\n",
              "AddisonTX                 77\n",
              "ArlingtonTX               68\n",
              "wisvilleTX                41\n",
              "CarrolltonTX              28\n",
              "SouthlakeTX               24\n",
              "SanBrunoCA                23\n",
              "SouthSanFranciscoCA       21\n",
              "SanFranciscoBayAreaCA     21\n",
              "CoppellTX                 19\n",
              "GrandPrairieTX            18\n",
              "MenloParkCA               16\n",
              "SanMateoCA                16\n",
              "DallasFortWorthTX         13\n",
              "Texas                      9\n",
              "McKinneyTX                 8\n",
              "OaklandCA                  4\n",
              "FlowerMoundTX              4\n",
              "HurstTX                    4\n",
              "EmeryvilleCA               3\n",
              "RedwoodCityCA              3\n",
              "FosterCityCA               3\n",
              "FarmersBranchTX            3\n",
              "RedwoodShoresCA            2\n",
              "SanCarlosCA                2\n",
              "BerkeleyCA                 2\n",
              "FriscoTX                   1\n",
              "BurlingameCA               1\n",
              "DentonTX                   1\n",
              "SanRafaelCA                1\n",
              "Name: location, dtype: int64"
            ]
          },
          "metadata": {
            "tags": []
          },
          "execution_count": 58
        }
      ]
    },
    {
      "cell_type": "code",
      "metadata": {
        "id": "kEWXvrB-JRvq",
        "colab_type": "code",
        "colab": {}
      },
      "source": [
        "cali = jobs['location'].where(jobs['location'] == 'SanFranciscoCA').dropna()\n",
        "cali.index\n",
        "jobs = jobs.drop(labels=cali.index, axis = 0)"
      ],
      "execution_count": 0,
      "outputs": []
    },
    {
      "cell_type": "code",
      "metadata": {
        "id": "f9DkMCoYJuEA",
        "colab_type": "code",
        "colab": {
          "base_uri": "https://localhost:8080/",
          "height": 647
        },
        "outputId": "4bceaf5f-016a-46f1-d2b9-5588cd3a3e1f"
      },
      "source": [
        "jobs['location'].value_counts()"
      ],
      "execution_count": 60,
      "outputs": [
        {
          "output_type": "execute_result",
          "data": {
            "text/plain": [
              "DallasTX                 816\n",
              "IrvingTX                 612\n",
              "PlanoTX                  440\n",
              "FortWorthTX              307\n",
              "RichardsonTX             102\n",
              "AddisonTX                 77\n",
              "ArlingtonTX               68\n",
              "wisvilleTX                41\n",
              "CarrolltonTX              28\n",
              "SouthlakeTX               24\n",
              "SanBrunoCA                23\n",
              "SouthSanFranciscoCA       21\n",
              "SanFranciscoBayAreaCA     21\n",
              "CoppellTX                 19\n",
              "GrandPrairieTX            18\n",
              "MenloParkCA               16\n",
              "SanMateoCA                16\n",
              "DallasFortWorthTX         13\n",
              "Texas                      9\n",
              "McKinneyTX                 8\n",
              "OaklandCA                  4\n",
              "FlowerMoundTX              4\n",
              "HurstTX                    4\n",
              "EmeryvilleCA               3\n",
              "FosterCityCA               3\n",
              "FarmersBranchTX            3\n",
              "RedwoodCityCA              3\n",
              "RedwoodShoresCA            2\n",
              "SanCarlosCA                2\n",
              "BerkeleyCA                 2\n",
              "FriscoTX                   1\n",
              "BurlingameCA               1\n",
              "DentonTX                   1\n",
              "SanRafaelCA                1\n",
              "Name: location, dtype: int64"
            ]
          },
          "metadata": {
            "tags": []
          },
          "execution_count": 60
        }
      ]
    },
    {
      "cell_type": "code",
      "metadata": {
        "id": "Rg6MT_l3KNt-",
        "colab_type": "code",
        "colab": {
          "base_uri": "https://localhost:8080/",
          "height": 1000
        },
        "outputId": "9889cab8-92b4-47d8-85ae-60111951544d"
      },
      "source": [
        "jobs['job_title'].value_counts()"
      ],
      "execution_count": 61,
      "outputs": [
        {
          "output_type": "execute_result",
          "data": {
            "text/plain": [
              "Data Scientist                                                                                                      488\n",
              "Data Scientist I                                                                                                    144\n",
              "Senior Data Scientist                                                                                               138\n",
              "Lead Data Scientist                                                                                                 120\n",
              "Data Scientist/Statistician (Statistical Modeling)                                                                  118\n",
              "Medicare Insurance Agent – Industry-best comp plan, popular carriers                                                 76\n",
              "Machine Learning Engineer                                                                                            58\n",
              "Senior Population Science Data Manager                                                                               38\n",
              "Sr. Data Science Engineer                                                                                            33\n",
              "Principal Data Scientist                                                                                             32\n",
              "Senior Data Analyst                                                                                                  31\n",
              "Data Analyst                                                                                                         20\n",
              "Laboratory Tech                                                                                                      20\n",
              "Telco-Cognitive Machine Learning Senior Manager                                                                      17\n",
              "Field Data Scientist for Machine Learning                                                                            16\n",
              "Senior Data Scientist - Dallas, TX                                                                                   16\n",
              "Scientist - Biology                                                                                                  16\n",
              "Data Transformation & Management Specialist                                                                          16\n",
              "Quantitative Risk Analyst I                                                                                          16\n",
              "Senior Manager - Data Science & Modernization, Automation, Customer MDM Consulting for High-Tech industry sector     15\n",
              "AAI – Data Science – Senior Manager                                                                                  15\n",
              "Senior Quantitative Analyst                                                                                          14\n",
              "Senior Consultant, Strategy & Analytics, Analytics & Cognitive                                                       14\n",
              "Telco-Media Data Science Senior Manager                                                                              13\n",
              "Sr. Data Scientist                                                                                                   13\n",
              "Research Scientist                                                                                                   13\n",
              "Senior Automation Engineer, Machine Learning Services                                                                12\n",
              "Consumer Products & Retail Analytics, Cognitive and Data Science Manager                                             12\n",
              "Sr. Associate, Data Scientist, NLP                                                                                   11\n",
              "Lead Java Engineer - Machine Learning Platform                                                                       11\n",
              "                                                                                                                   ... \n",
              "Field Engineer                                                                                                        1\n",
              "Physical Scientist / Health Physicist                                                                                 1\n",
              "Yield Analytics Engineer - Data Analysis                                                                              1\n",
              "Sr Consultant (Full time)                                                                                             1\n",
              "Statistician                                                                                                          1\n",
              "Market Research & Pricing Analyst, Transload                                                                          1\n",
              "ACT Business Area Chief Engineer                                                                                      1\n",
              "Senior General Manager                                                                                                1\n",
              "Python Engineer                                                                                                       1\n",
              "Veteran Sourcing, Program Manager                                                                                     1\n",
              "Regional Service Technician                                                                                           1\n",
              "Environmental Science/Planning Manager                                                                                1\n",
              "ACADEMIC STAFF HERPETOLOGY COLLECTIONS MANAGER/BIOLOGICAL CURATOR (S01547P)                                           1\n",
              "Manager, CRM Technical Services                                                                                       1\n",
              "Data Scientist - Path Forward Returnship                                                                              1\n",
              "National Director of Marketing and Communications                                                                     1\n",
              "Associate Data Scientist, Visa Predictive Models                                                                      1\n",
              "Market Research Analyst                                                                                               1\n",
              "Sr Mgr-Digital Solutions & Data Analytics                                                                             1\n",
              "Sr Software Engineer I                                                                                                1\n",
              "Big Data Engineer                                                                                                     1\n",
              "Civil Construction Inspector 2                                                                                        1\n",
              "Clinical Data Operator I                                                                                              1\n",
              "Data Scientist (Voice Commerce Team)                                                                                  1\n",
              "Instrument & Controls Engineer                                                                                        1\n",
              "Sr Data Science Consultant                                                                                            1\n",
              "Senior Natural Resource Lead                                                                                          1\n",
              "Spatial Data Scientist                                                                                                1\n",
              "Research Scientist II - MR Imaging Center                                                                             1\n",
              "Data Scientist - Rakuten Marketing                                                                                    1\n",
              "Name: job_title, Length: 346, dtype: int64"
            ]
          },
          "metadata": {
            "tags": []
          },
          "execution_count": 61
        }
      ]
    },
    {
      "cell_type": "code",
      "metadata": {
        "id": "Ox6Bp6w3KXkc",
        "colab_type": "code",
        "colab": {}
      },
      "source": [
        "machine_learning = jobs.where(jobs['job_title'] == 'Machine Learning Engineer').dropna()\n",
        "dallas_ml = machine_learning.where(machine_learning['location'] == 'DallasTX').dropna()"
      ],
      "execution_count": 0,
      "outputs": []
    },
    {
      "cell_type": "code",
      "metadata": {
        "id": "DhVsbZU7LNiq",
        "colab_type": "code",
        "colab": {
          "base_uri": "https://localhost:8080/",
          "height": 197
        },
        "outputId": "73a9e450-c799-4fef-ad36-2dc25090601b"
      },
      "source": [
        "dallas_ml.info()"
      ],
      "execution_count": 63,
      "outputs": [
        {
          "output_type": "stream",
          "text": [
            "<class 'pandas.core.frame.DataFrame'>\n",
            "Int64Index: 15 entries, 140 to 2566\n",
            "Data columns (total 5 columns):\n",
            "job_title    15 non-null object\n",
            "company      15 non-null object\n",
            "location     15 non-null object\n",
            "summary      15 non-null object\n",
            "tokens       15 non-null object\n",
            "dtypes: object(5)\n",
            "memory usage: 720.0+ bytes\n"
          ],
          "name": "stdout"
        }
      ]
    },
    {
      "cell_type": "code",
      "metadata": {
        "id": "kCN1iI7fLU1G",
        "colab_type": "code",
        "colab": {}
      },
      "source": [
        ""
      ],
      "execution_count": 0,
      "outputs": []
    },
    {
      "cell_type": "code",
      "metadata": {
        "id": "Z-Q7jDa9KQwK",
        "colab_type": "code",
        "colab": {
          "base_uri": "https://localhost:8080/",
          "height": 197
        },
        "outputId": "435eea79-e9ff-4bfe-ac58-ace565d009b9"
      },
      "source": [
        "machine_learning['company'].value_counts()"
      ],
      "execution_count": 64,
      "outputs": [
        {
          "output_type": "execute_result",
          "data": {
            "text/plain": [
              "Verizon                          14\n",
              "Kinetix Trading Solutions Inc     8\n",
              "Novo Labs, Inc.                   7\n",
              "Okaya inc                         7\n",
              "Bank of America                   6\n",
              "Event Dynamic                     5\n",
              "Capital One                       4\n",
              "Tiger Analytics                   4\n",
              "Dialexa                           3\n",
              "Name: company, dtype: int64"
            ]
          },
          "metadata": {
            "tags": []
          },
          "execution_count": 64
        }
      ]
    }
  ]
}